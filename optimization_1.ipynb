{
 "cells": [
  {
   "cell_type": "markdown",
   "metadata": {},
   "source": [
    "***MGSC 662 - Assignment 1***"
   ]
  },
  {
   "cell_type": "markdown",
   "metadata": {},
   "source": [
    "***Fresh Milk Transportation***\n",
    "\n",
    "*BalancedMilk* is an old dairy-transportation firm renowned for the freshness of the milk it distributes. It has long-term fixed-amount contracts with eight dairy farms (suppliers) and distributes their production among ten demand markets. Transporting milk for a long time from suppliers to demand markets, BalancedMilk is well aware of the milk demand in each demand market and the transportation cost from each supplier to each demand center.\n",
    "\n",
    "In the following table, the number in front of each supply and demand center represents the supply and demand (in tonnes.) Also, for each supply-demand pair, the transportation cost ($ per tonne) is depicted."
   ]
  },
  {
   "cell_type": "markdown",
   "metadata": {},
   "source": [
    "| | $D_1$(90)| $D_2$(100) | $D_3$(150) | $D_4$(190) | $D_5$(180) | $D_6$(240) | $D_7$(210) | $D_8$(90) | $D_9$(160) | $D_{10}$(70) |\n",
    "|--| -- | -- | -- | -- | -- | -- | -- | -- | -- | -- |\n",
    "| $S_1$(110) |20|49|16|30|8|35|21|40|10|12|\n",
    "| $S_2$(80) |15|53|7|20|47|11|16|17|15|44|\n",
    "| $S_3$(100) |22|25|42|22|31|9|11|29|20|5|\n",
    "| $S_4$(240) |45|6|33|35|49|25|30|47|32|31|\n",
    "| $S_5$(100) |9|12|41|15|38|14|53|22|12|13|\n",
    "| $S_6$(280) |21|24|32|49|5|47|30|23|37|8|\n",
    "| $S_7$(130) |12|19|5|28|47|39|15|35|9|51|\n",
    "| $S_8$(440) |34|17|10|21|9|33|14|26|19|45|"
   ]
  },
  {
   "cell_type": "markdown",
   "metadata": {},
   "source": [
    "Keep the following points in mind when solving the problems:\n",
    "\n",
    "**Note 1**: The firm should not supply milk to a demand market **more** than its demand, i.e., should not **over-supply** it.\n",
    "\n",
    "**Note 2**: Write your code so that your answer to each part is independent of the other. For instance, to get the solution for Problem 2, one should not be forced to run Problem 1 beforehand. \n",
    "\n",
    "For each of the following strategies, formulate them as a LP problem and solve them using Gurobi:"
   ]
  },
  {
   "cell_type": "markdown",
   "metadata": {},
   "source": [
    "**Problem 1:**\n",
    "\n",
    "The firm wants to distribute all the supplied milk as efficiently as possible. Formulate the problem of minimizing the total transportation cost using Gurobi and solve it. Then, report the optimal allocation and the minimum cost."
   ]
  },
  {
   "cell_type": "code",
   "execution_count": 1,
   "metadata": {},
   "outputs": [],
   "source": [
    "Cost = [[20, 49, 16, 30,  8, 35, 21, 40, 10, 12],\n",
    "        [15, 53, 7, 20, 47, 11, 16, 17, 15, 44],\n",
    "        [22, 25, 42, 22, 31, 9, 11, 29, 20, 5],\n",
    "        [45,  6, 33, 35, 49, 25, 30, 47, 32, 31],\n",
    "        [9, 12, 41, 15, 38, 14, 53, 22, 12, 13],\n",
    "        [21, 24, 32, 49, 5, 47, 30, 23, 37, 8],\n",
    "        [12, 19,  5, 28, 47, 39, 15, 35, 9, 51],\n",
    "        [34, 17, 10, 21, 9, 33, 14, 26, 19, 45]]\n",
    "\n",
    "SupplyCenter = ['S_1', 'S_2', 'S_3', 'S_4', 'S_5', 'S_6', 'S_7', 'S_8']\n",
    "Supply = [110, 80, 100, 240, 100, 280, 130, 440]\n",
    "DemandMarket = ['D_1', 'D_2', 'D_3', 'D_4', 'D_5', 'D_6', 'D_7', 'D_8', 'D_9', 'D_10']\n",
    "Demand = [90, 100, 150, 190, 180, 240, 210, 90, 160, 70]\n",
    "\n",
    "# Your solution for Problem 1:"
   ]
  },
  {
   "cell_type": "code",
   "execution_count": 2,
   "metadata": {},
   "outputs": [],
   "source": [
    "import gurobipy as gb\n",
    "from gurobipy import *"
   ]
  },
  {
   "cell_type": "code",
   "execution_count": 3,
   "metadata": {},
   "outputs": [
    {
     "name": "stdout",
     "output_type": "stream",
     "text": [
      "Set parameter Username\n",
      "Academic license - for non-commercial use only - expires 2023-09-10\n"
     ]
    }
   ],
   "source": [
    "prob = gb.Model(\"Fresh Milk Transportation\")"
   ]
  },
  {
   "cell_type": "code",
   "execution_count": 4,
   "metadata": {},
   "outputs": [],
   "source": [
    "S = len(Supply)\n",
    "D = len(Demand)"
   ]
  },
  {
   "cell_type": "markdown",
   "metadata": {},
   "source": [
    "Adding variables:"
   ]
  },
  {
   "cell_type": "code",
   "execution_count": 5,
   "metadata": {},
   "outputs": [],
   "source": [
    "X = prob.addVars(S,D, lb = 0, vtype = GRB.CONTINUOUS, name = [\"X_\"+i+\"_\"+j for i in SupplyCenter for j in DemandMarket])"
   ]
  },
  {
   "cell_type": "markdown",
   "metadata": {},
   "source": [
    "Objective function:"
   ]
  },
  {
   "cell_type": "code",
   "execution_count": 6,
   "metadata": {},
   "outputs": [],
   "source": [
    "prob.setObjective(sum(Cost[i][j]*X[i,j] for i in range(S) for j in range(D)), GRB.MINIMIZE)"
   ]
  },
  {
   "cell_type": "markdown",
   "metadata": {},
   "source": [
    "Adding suppy constraints:"
   ]
  },
  {
   "cell_type": "code",
   "execution_count": 7,
   "metadata": {},
   "outputs": [],
   "source": [
    "for i in range(S):\n",
    "    prob.addConstr(sum(X[i,j] for j in range(D))<=Supply[i])"
   ]
  },
  {
   "cell_type": "markdown",
   "metadata": {},
   "source": [
    "Adding demand constraints:"
   ]
  },
  {
   "cell_type": "code",
   "execution_count": 8,
   "metadata": {},
   "outputs": [],
   "source": [
    "for j in range(D):\n",
    "    prob.addConstr(sum(X[i,j] for i in range(S)) >= Demand[j])"
   ]
  },
  {
   "cell_type": "code",
   "execution_count": 9,
   "metadata": {},
   "outputs": [
    {
     "name": "stdout",
     "output_type": "stream",
     "text": [
      "Gurobi Optimizer version 9.5.2 build v9.5.2rc0 (mac64[x86])\n",
      "Thread count: 2 physical cores, 4 logical processors, using up to 4 threads\n",
      "Optimize a model with 18 rows, 80 columns and 160 nonzeros\n",
      "Model fingerprint: 0xcc3efc64\n",
      "Coefficient statistics:\n",
      "  Matrix range     [1e+00, 1e+00]\n",
      "  Objective range  [5e+00, 5e+01]\n",
      "  Bounds range     [0e+00, 0e+00]\n",
      "  RHS range        [7e+01, 4e+02]\n",
      "Presolve time: 0.02s\n",
      "Presolved: 18 rows, 80 columns, 160 nonzeros\n",
      "\n",
      "Iteration    Objective       Primal Inf.    Dual Inf.      Time\n",
      "       0    0.0000000e+00   1.480000e+03   0.000000e+00      0s\n",
      "      23    1.8440000e+04   0.000000e+00   0.000000e+00      0s\n",
      "\n",
      "Solved in 23 iterations and 0.04 seconds (0.00 work units)\n",
      "Optimal objective  1.844000000e+04\n"
     ]
    }
   ],
   "source": [
    "prob.optimize()"
   ]
  },
  {
   "cell_type": "code",
   "execution_count": 10,
   "metadata": {},
   "outputs": [
    {
     "name": "stdout",
     "output_type": "stream",
     "text": [
      "X_S_1_D_9 = 110\n",
      "X_S_2_D_3 = 20\n",
      "X_S_2_D_8 = 60\n",
      "X_S_3_D_6 = 100\n",
      "X_S_4_D_2 = 100\n",
      "X_S_4_D_6 = 140\n",
      "X_S_5_D_1 = 90\n",
      "X_S_5_D_4 = 10\n",
      "X_S_6_D_5 = 180\n",
      "X_S_6_D_8 = 30\n",
      "X_S_6_D_10 = 70\n",
      "X_S_7_D_3 = 80\n",
      "X_S_7_D_9 = 50\n",
      "X_S_8_D_3 = 50\n",
      "X_S_8_D_4 = 180\n",
      "X_S_8_D_7 = 210\n"
     ]
    }
   ],
   "source": [
    "for v in prob.getVars():\n",
    "    if v.x>0:\n",
    "        print(v.varName, \"=\", round(v.x))"
   ]
  },
  {
   "cell_type": "code",
   "execution_count": 11,
   "metadata": {},
   "outputs": [
    {
     "data": {
      "text/plain": [
       "18440.0"
      ]
     },
     "execution_count": 11,
     "metadata": {},
     "output_type": "execute_result"
    }
   ],
   "source": [
    "prob.objVal"
   ]
  },
  {
   "cell_type": "markdown",
   "metadata": {},
   "source": [
    "Due to a cattle virus outbreak in the largest supplier ($S_8$), the health ministry shut down this dairy farm. Left with seven suppliers and unchanged demands, BalancedMilk is facing a supply shortage. Therefore, the management establishes two teams to search for short-term and long-term strategies to combat this issue. While the *long-term team* is looking for alternative suppliers or new contracts, we want to evaluate the strategies offered by the *short-term team* in the following problems."
   ]
  },
  {
   "cell_type": "markdown",
   "metadata": {},
   "source": [
    "**Problem 2:**\n",
    "\n",
    "Suppose not supplying milk to a demand market is costless. Nevertheless, the firm should supply all the milk the remaining seven supply centers provide. Also, remember that the firm cannot oversupply a demand market. Formulate the problem of minimizing the total transportation cost using Gurobi and solve it. Then, report the optimal allocation and the minimum cost. \n",
    "\n",
    "(Hint: one way of modeling this situation is to replace $S_8$ with a *dummy supplier* that provides the same amount of milk previously provided by $S_8$ but at zero cost.)\n"
   ]
  },
  {
   "cell_type": "code",
   "execution_count": 12,
   "metadata": {},
   "outputs": [],
   "source": [
    "# Your solution for Problem 2:"
   ]
  },
  {
   "cell_type": "code",
   "execution_count": 13,
   "metadata": {},
   "outputs": [],
   "source": [
    "prob_1 = gb.Model(\"Fresh Milk Transportation Without S8\")"
   ]
  },
  {
   "cell_type": "code",
   "execution_count": 14,
   "metadata": {},
   "outputs": [],
   "source": [
    "Cost_new = [[20, 49, 16, 30,  8, 35, 21, 40, 10, 12],\n",
    "        [15, 53, 7, 20, 47, 11, 16, 17, 15, 44],\n",
    "        [22, 25, 42, 22, 31, 9, 11, 29, 20, 5],\n",
    "        [45,  6, 33, 35, 49, 25, 30, 47, 32, 31],\n",
    "        [9, 12, 41, 15, 38, 14, 53, 22, 12, 13],\n",
    "        [21, 24, 32, 49, 5, 47, 30, 23, 37, 8],\n",
    "        [12, 19,  5, 28, 47, 39, 15, 35, 9, 51],\n",
    "        [0, 0, 0, 0, 0, 0, 0, 0, 0, 0]]"
   ]
  },
  {
   "cell_type": "code",
   "execution_count": 15,
   "metadata": {},
   "outputs": [],
   "source": [
    "X = prob_1.addVars(S,D, lb = 0, vtype = GRB.CONTINUOUS, name = [\"X_\"+i+\"_\"+j for i in SupplyCenter for j in DemandMarket])"
   ]
  },
  {
   "cell_type": "code",
   "execution_count": 16,
   "metadata": {},
   "outputs": [],
   "source": [
    "prob_1.setObjective(sum(Cost_new[i][j]*X[i,j] for i in range(S) for j in range(D)), GRB.MINIMIZE)"
   ]
  },
  {
   "cell_type": "code",
   "execution_count": 17,
   "metadata": {},
   "outputs": [],
   "source": [
    "for i in range(S):\n",
    "    prob_1.addConstr(sum(X[i,j] for j in range(D))<=Supply[i])"
   ]
  },
  {
   "cell_type": "code",
   "execution_count": 18,
   "metadata": {},
   "outputs": [],
   "source": [
    "for j in range(D):\n",
    "    prob_1.addConstr(sum(X[i,j] for i in range(S)) >= Demand[j])"
   ]
  },
  {
   "cell_type": "code",
   "execution_count": 19,
   "metadata": {},
   "outputs": [
    {
     "name": "stdout",
     "output_type": "stream",
     "text": [
      "Gurobi Optimizer version 9.5.2 build v9.5.2rc0 (mac64[x86])\n",
      "Thread count: 2 physical cores, 4 logical processors, using up to 4 threads\n",
      "Optimize a model with 18 rows, 80 columns and 160 nonzeros\n",
      "Model fingerprint: 0x2e5e0acc\n",
      "Coefficient statistics:\n",
      "  Matrix range     [1e+00, 1e+00]\n",
      "  Objective range  [5e+00, 5e+01]\n",
      "  Bounds range     [0e+00, 0e+00]\n",
      "  RHS range        [7e+01, 4e+02]\n",
      "Presolve time: 0.01s\n",
      "Presolved: 18 rows, 80 columns, 160 nonzeros\n",
      "\n",
      "Iteration    Objective       Primal Inf.    Dual Inf.      Time\n",
      "       0    0.0000000e+00   1.480000e+03   0.000000e+00      0s\n",
      "      22    1.0670000e+04   0.000000e+00   0.000000e+00      0s\n",
      "\n",
      "Solved in 22 iterations and 0.02 seconds (0.00 work units)\n",
      "Optimal objective  1.067000000e+04\n"
     ]
    }
   ],
   "source": [
    "prob_1.optimize()"
   ]
  },
  {
   "cell_type": "code",
   "execution_count": 20,
   "metadata": {},
   "outputs": [
    {
     "name": "stdout",
     "output_type": "stream",
     "text": [
      "X_S_1_D_9 = 110\n",
      "X_S_2_D_3 = 60\n",
      "X_S_2_D_6 = 20\n",
      "X_S_3_D_6 = 80\n",
      "X_S_3_D_7 = 20\n",
      "X_S_4_D_2 = 100\n",
      "X_S_4_D_6 = 140\n",
      "X_S_5_D_1 = 90\n",
      "X_S_5_D_9 = 10\n",
      "X_S_6_D_5 = 180\n",
      "X_S_6_D_8 = 30\n",
      "X_S_6_D_10 = 70\n",
      "X_S_7_D_3 = 90\n",
      "X_S_7_D_9 = 40\n",
      "X_S_8_D_4 = 190\n",
      "X_S_8_D_7 = 190\n",
      "X_S_8_D_8 = 60\n"
     ]
    }
   ],
   "source": [
    "for v in prob_1.getVars():\n",
    "    if v.x>0:\n",
    "        print(v.varName, \"=\", round(v.x))"
   ]
  },
  {
   "cell_type": "code",
   "execution_count": 21,
   "metadata": {},
   "outputs": [
    {
     "data": {
      "text/plain": [
       "10670.0"
      ]
     },
     "execution_count": 21,
     "metadata": {},
     "output_type": "execute_result"
    }
   ],
   "source": [
    "prob_1.objVal"
   ]
  },
  {
   "cell_type": "markdown",
   "metadata": {},
   "source": [
    "#### Above results explained:\n",
    "S_8 is considered as a dummy supplier, which means that everything supplied from it is fictional.\n",
    "\n",
    "* D_4 needs 190 tonnes of milk, which are supposedly supplied by S_8. In reality, D_4 is getting nothing as its only supplier is S_8.\n",
    "* D_7 needs 210 tonnes of milk. 190 tonnes are supposedly supplied by S_8, and 20 tonnes by S_3. In reality, D_7 is only getting the 20 tonnes of milk from S_3 and nothing from S_8.\n",
    "* D_8 needs 90 tonnes of milk. 60 tonnes are supposedly supplied by S_8, and 30 tonnes by S_6. In reality, D_8 is only getting the 30 tonnes of milk from S_6 and nothing from S_8.\n",
    "\n",
    "(Btw: 190 + 190 + 60 = 440, which is the total amount of milk initially supplied by S_8)\n",
    "\n",
    "Thus, we are under supplying for D_4, D_7 and D_8.\n",
    "\n",
    "Moreover, total supply excluding S_8 = 1040 tonnes of milk, which is equal to the amount of actually supplied milk as seen above. Thus, all available milk has been supplied in this model. \n",
    "\n",
    "Finally, the optimal allocation and minimal cost are the following: \n",
    "##### Allocation: \n",
    "X_S_1_D_9 = 110\n",
    "X_S_2_D_3 = 60\n",
    "X_S_2_D_6 = 20\n",
    "X_S_3_D_6 = 80\n",
    "X_S_3_D_7 = 20\n",
    "X_S_4_D_2 = 100\n",
    "X_S_4_D_6 = 140\n",
    "X_S_5_D_1 = 90\n",
    "X_S_5_D_9 = 10\n",
    "X_S_6_D_5 = 180\n",
    "X_S_6_D_8 = 30\n",
    "X_S_6_D_10 = 70\n",
    "X_S_7_D_3 = 90\n",
    "X_S_7_D_9 = 40\n",
    "##### Minimal cost:\n",
    "$10,670.00"
   ]
  },
  {
   "cell_type": "markdown",
   "metadata": {},
   "source": [
    "**Problem 3:**\n",
    "\n",
    "In the real world, with fierce competitors ready to attack *BalancedMilk*'s market share, the cost of not supplying milk to a demand center is not zero. Additionally, like Problem 2, the firm should supply all the milk provided by the remaining seven supply centers. Suppose the cost of not delivering each tonne of milk to each demand center is  20\\\\$/tone. Formulate the problem of minimizing the sum of total transportation and not supplying costs using Gurobi and solve it. Then, report the optimal allocation and the minimum cost. Now suppose instead of 20\\\\$/tone, the not supplying cost is 100\\$/tone. Again, formulate the problem of minimizing the sum of total transportation and not supplying costs using Gurobi and solve it. Then, report the optimal allocation and the minimum cost. \n",
    "\n",
    "Can you detect any patterns in the optimal allocation in this problem and the previous one? How about the difference between the minimum costs? Explain your intuition."
   ]
  },
  {
   "cell_type": "code",
   "execution_count": 22,
   "metadata": {},
   "outputs": [],
   "source": [
    "# Your solution for Problem 3:"
   ]
  },
  {
   "cell_type": "markdown",
   "metadata": {},
   "source": [
    "#### Cost of not supplying: $20/tonne"
   ]
  },
  {
   "cell_type": "code",
   "execution_count": 23,
   "metadata": {},
   "outputs": [],
   "source": [
    "prob_2 = gb.Model(\"Fresh Milk Transportation Without S8 costs $20/tonne\")"
   ]
  },
  {
   "cell_type": "code",
   "execution_count": 24,
   "metadata": {},
   "outputs": [],
   "source": [
    "Cost_2 = [[20, 49, 16, 30,  8, 35, 21, 40, 10, 12],\n",
    "        [15, 53, 7, 20, 47, 11, 16, 17, 15, 44],\n",
    "        [22, 25, 42, 22, 31, 9, 11, 29, 20, 5],\n",
    "        [45,  6, 33, 35, 49, 25, 30, 47, 32, 31],\n",
    "        [9, 12, 41, 15, 38, 14, 53, 22, 12, 13],\n",
    "        [21, 24, 32, 49, 5, 47, 30, 23, 37, 8],\n",
    "        [12, 19,  5, 28, 47, 39, 15, 35, 9, 51],\n",
    "        [20, 20, 20, 20, 20, 20, 20, 20, 20, 20]]"
   ]
  },
  {
   "cell_type": "code",
   "execution_count": 25,
   "metadata": {},
   "outputs": [],
   "source": [
    "Y = prob_2.addVars(S,D, lb = 0, vtype = GRB.CONTINUOUS, name = [\"X_\"+i+\"_\"+j for i in SupplyCenter for j in DemandMarket])"
   ]
  },
  {
   "cell_type": "code",
   "execution_count": 26,
   "metadata": {},
   "outputs": [],
   "source": [
    "prob_2.setObjective(sum(Cost_2[i][j]*Y[i,j] for i in range(S) for j in range(D)), GRB.MINIMIZE)"
   ]
  },
  {
   "cell_type": "code",
   "execution_count": 27,
   "metadata": {},
   "outputs": [],
   "source": [
    "for i in range(S):\n",
    "    prob_2.addConstr(sum(Y[i,j] for j in range(D))<=Supply[i])"
   ]
  },
  {
   "cell_type": "code",
   "execution_count": 28,
   "metadata": {},
   "outputs": [],
   "source": [
    "for j in range(D):\n",
    "    prob_2.addConstr(sum(Y[i,j] for i in range(S)) >= Demand[j])"
   ]
  },
  {
   "cell_type": "code",
   "execution_count": 29,
   "metadata": {},
   "outputs": [
    {
     "name": "stdout",
     "output_type": "stream",
     "text": [
      "Gurobi Optimizer version 9.5.2 build v9.5.2rc0 (mac64[x86])\n",
      "Thread count: 2 physical cores, 4 logical processors, using up to 4 threads\n",
      "Optimize a model with 18 rows, 80 columns and 160 nonzeros\n",
      "Model fingerprint: 0x6d48932d\n",
      "Coefficient statistics:\n",
      "  Matrix range     [1e+00, 1e+00]\n",
      "  Objective range  [5e+00, 5e+01]\n",
      "  Bounds range     [0e+00, 0e+00]\n",
      "  RHS range        [7e+01, 4e+02]\n",
      "Presolve time: 0.02s\n",
      "Presolved: 18 rows, 80 columns, 160 nonzeros\n",
      "\n",
      "Iteration    Objective       Primal Inf.    Dual Inf.      Time\n",
      "       0    0.0000000e+00   1.480000e+03   0.000000e+00      0s\n",
      "      23    1.9470000e+04   0.000000e+00   0.000000e+00      0s\n",
      "\n",
      "Solved in 23 iterations and 0.03 seconds (0.00 work units)\n",
      "Optimal objective  1.947000000e+04\n"
     ]
    }
   ],
   "source": [
    "prob_2.optimize()"
   ]
  },
  {
   "cell_type": "code",
   "execution_count": 30,
   "metadata": {},
   "outputs": [
    {
     "name": "stdout",
     "output_type": "stream",
     "text": [
      "X_S_1_D_9 = 110\n",
      "X_S_2_D_3 = 60\n",
      "X_S_2_D_6 = 20\n",
      "X_S_3_D_6 = 80\n",
      "X_S_3_D_7 = 20\n",
      "X_S_4_D_2 = 100\n",
      "X_S_4_D_6 = 140\n",
      "X_S_5_D_1 = 90\n",
      "X_S_5_D_9 = 10\n",
      "X_S_6_D_5 = 180\n",
      "X_S_6_D_8 = 30\n",
      "X_S_6_D_10 = 70\n",
      "X_S_7_D_3 = 90\n",
      "X_S_7_D_9 = 40\n",
      "X_S_8_D_4 = 190\n",
      "X_S_8_D_7 = 190\n",
      "X_S_8_D_8 = 60\n"
     ]
    }
   ],
   "source": [
    "for v in prob_2.getVars():\n",
    "    if v.x>0:\n",
    "        print(v.varName, \"=\", round(v.x))"
   ]
  },
  {
   "cell_type": "code",
   "execution_count": 31,
   "metadata": {},
   "outputs": [
    {
     "data": {
      "text/plain": [
       "19470.0"
      ]
     },
     "execution_count": 31,
     "metadata": {},
     "output_type": "execute_result"
    }
   ],
   "source": [
    "prob_2.objVal"
   ]
  },
  {
   "cell_type": "markdown",
   "metadata": {},
   "source": [
    "When the cost of not supplying is 20 dollars/tonne of milk, the optimized cost of transportation is equal to 19470 dollars, which is equal to the optimal cost of transportation found when cost of not supplying was equal to 0, to which we add the amount of milk that was supposed to be supplied by S_8 times 20 dollars:\n",
    "* (190+190+60) x 20 = 8800\n",
    "* 10,670.00 + 8,800.00 = 19,470\n",
    "\n",
    "Regarding the optimal allocation it is still the same as the one we got before, when cost of not supplying was null."
   ]
  },
  {
   "cell_type": "markdown",
   "metadata": {},
   "source": [
    "#### Cost of not supplying: $100/tonne"
   ]
  },
  {
   "cell_type": "code",
   "execution_count": 32,
   "metadata": {},
   "outputs": [],
   "source": [
    "prob_3 = gb.Model(\"Fresh Milk Transportation Without S8 costs $100/tonne\")"
   ]
  },
  {
   "cell_type": "code",
   "execution_count": 33,
   "metadata": {},
   "outputs": [],
   "source": [
    "Cost_3 = [[20, 49, 16, 30,  8, 35, 21, 40, 10, 12],\n",
    "        [15, 53, 7, 20, 47, 11, 16, 17, 15, 44],\n",
    "        [22, 25, 42, 22, 31, 9, 11, 29, 20, 5],\n",
    "        [45,  6, 33, 35, 49, 25, 30, 47, 32, 31],\n",
    "        [9, 12, 41, 15, 38, 14, 53, 22, 12, 13],\n",
    "        [21, 24, 32, 49, 5, 47, 30, 23, 37, 8],\n",
    "        [12, 19,  5, 28, 47, 39, 15, 35, 9, 51],\n",
    "        [100, 100, 100, 100, 100, 100, 100, 100, 100, 100]]"
   ]
  },
  {
   "cell_type": "code",
   "execution_count": 34,
   "metadata": {},
   "outputs": [],
   "source": [
    "Z = prob_3.addVars(S,D, lb = 0, vtype = GRB.CONTINUOUS, name = [\"X_\"+i+\"_\"+j for i in SupplyCenter for j in DemandMarket])"
   ]
  },
  {
   "cell_type": "code",
   "execution_count": 35,
   "metadata": {},
   "outputs": [],
   "source": [
    "prob_3.setObjective(sum(Cost_3[i][j]*Z[i,j] for i in range(S) for j in range(D)), GRB.MINIMIZE)"
   ]
  },
  {
   "cell_type": "code",
   "execution_count": 36,
   "metadata": {},
   "outputs": [],
   "source": [
    "for i in range(S):\n",
    "    prob_3.addConstr(sum(Z[i,j] for j in range(D))<=Supply[i])"
   ]
  },
  {
   "cell_type": "code",
   "execution_count": 37,
   "metadata": {},
   "outputs": [],
   "source": [
    "for j in range(D):\n",
    "    prob_3.addConstr(sum(Z[i,j] for i in range(S)) >= Demand[j])"
   ]
  },
  {
   "cell_type": "code",
   "execution_count": 38,
   "metadata": {},
   "outputs": [
    {
     "name": "stdout",
     "output_type": "stream",
     "text": [
      "Gurobi Optimizer version 9.5.2 build v9.5.2rc0 (mac64[x86])\n",
      "Thread count: 2 physical cores, 4 logical processors, using up to 4 threads\n",
      "Optimize a model with 18 rows, 80 columns and 160 nonzeros\n",
      "Model fingerprint: 0x09c330f5\n",
      "Coefficient statistics:\n",
      "  Matrix range     [1e+00, 1e+00]\n",
      "  Objective range  [5e+00, 1e+02]\n",
      "  Bounds range     [0e+00, 0e+00]\n",
      "  RHS range        [7e+01, 4e+02]\n",
      "Presolve time: 0.01s\n",
      "Presolved: 18 rows, 80 columns, 160 nonzeros\n",
      "\n",
      "Iteration    Objective       Primal Inf.    Dual Inf.      Time\n",
      "       0    0.0000000e+00   1.480000e+03   0.000000e+00      0s\n",
      "      24    5.4670000e+04   0.000000e+00   0.000000e+00      0s\n",
      "\n",
      "Solved in 24 iterations and 0.02 seconds (0.00 work units)\n",
      "Optimal objective  5.467000000e+04\n"
     ]
    }
   ],
   "source": [
    "prob_3.optimize()"
   ]
  },
  {
   "cell_type": "code",
   "execution_count": 39,
   "metadata": {},
   "outputs": [
    {
     "name": "stdout",
     "output_type": "stream",
     "text": [
      "X_S_1_D_9 = 110\n",
      "X_S_2_D_3 = 60\n",
      "X_S_2_D_6 = 20\n",
      "X_S_3_D_6 = 80\n",
      "X_S_3_D_7 = 20\n",
      "X_S_4_D_2 = 100\n",
      "X_S_4_D_6 = 140\n",
      "X_S_5_D_1 = 90\n",
      "X_S_5_D_9 = 10\n",
      "X_S_6_D_5 = 180\n",
      "X_S_6_D_8 = 30\n",
      "X_S_6_D_10 = 70\n",
      "X_S_7_D_3 = 90\n",
      "X_S_7_D_9 = 40\n",
      "X_S_8_D_4 = 190\n",
      "X_S_8_D_7 = 190\n",
      "X_S_8_D_8 = 60\n"
     ]
    }
   ],
   "source": [
    "for v in prob_3.getVars():\n",
    "    if v.x>0:\n",
    "        print(v.varName, \"=\", round(v.x))"
   ]
  },
  {
   "cell_type": "code",
   "execution_count": 40,
   "metadata": {},
   "outputs": [
    {
     "data": {
      "text/plain": [
       "54670.0"
      ]
     },
     "execution_count": 40,
     "metadata": {},
     "output_type": "execute_result"
    }
   ],
   "source": [
    "prob_3.objVal"
   ]
  },
  {
   "cell_type": "markdown",
   "metadata": {},
   "source": [
    "Same again happens for cost of not supplying = 100 dollars/tonne:\n",
    "\n",
    "cost of total transportation = cost of total trasnsportation with no cost of not supplying + 440 x 100 = 10670 + 44000 = 54670\n",
    "                           \n",
    "Again, optimal allocation of supply to demand stays the same"
   ]
  },
  {
   "cell_type": "markdown",
   "metadata": {},
   "source": [
    "**Problem 4:**\n",
    "\n",
    "In Problems 2 and 3, we assumed the firm is committed to distributing all the milk supplied by the seven remaining supply centers. Suppose the firm does not entertain this constraint anymore, and the cost of not supplying each tonne of milk to each demand center is  20\\\\$/tone. Formulate the problem of minimizing the sum of total transportation and not supplying costs using Gurobi and solve it. Then, report the optimal allocation and the minimum cost. Now suppose instead of 20\\\\$/tone, the not supplying cost is 100\\$/tone. Again, formulate the problem of minimizing the sum of total transportation and not supplying costs using Gurobi and solve it. Then, report the optimal allocation and the minimum cost. \n",
    "\n",
    "Do you see any difference between the optimal allocation in this problem and Problem 3? Do you have any educated guesses on why it is the case?"
   ]
  },
  {
   "cell_type": "code",
   "execution_count": 41,
   "metadata": {},
   "outputs": [],
   "source": [
    "# Your solution for Problem 4:\n",
    "\n",
    "prob_4 = gb.Model(\"Problem 4 part 1\")"
   ]
  },
  {
   "cell_type": "code",
   "execution_count": 42,
   "metadata": {},
   "outputs": [],
   "source": [
    "W = prob_4.addVars(S,D, lb = 0, vtype = GRB.CONTINUOUS, name = [\"X_\"+i+\"_\"+j for i in SupplyCenter for j in DemandMarket])"
   ]
  },
  {
   "cell_type": "code",
   "execution_count": 43,
   "metadata": {},
   "outputs": [],
   "source": [
    "prob_4.setObjective(sum(Cost_2[i][j]*W[i,j] for i in range(S) for j in range(D)), GRB.MINIMIZE)\n",
    "# cost_2 is the cost matrix for when the S_8 row is equal to 20 dollars"
   ]
  },
  {
   "cell_type": "code",
   "execution_count": 44,
   "metadata": {},
   "outputs": [
    {
     "data": {
      "text/plain": [
       "<gurobi.Constr *Awaiting Model Update*>"
      ]
     },
     "execution_count": 44,
     "metadata": {},
     "output_type": "execute_result"
    }
   ],
   "source": [
    "for i in range(S-1):\n",
    "    prob_4.addConstr(sum(W[i,j] for j in range(D))<=Supply[i])\n",
    "\n",
    "for j in range(D):\n",
    "    prob_4.addConstr(sum(W[i,j] for i in range(S)) >= Demand[j])\n",
    "\n",
    "prob_4.addConstr(sum(W[7,j] for j in range(D))<=1480)"
   ]
  },
  {
   "cell_type": "code",
   "execution_count": 45,
   "metadata": {
    "scrolled": true
   },
   "outputs": [
    {
     "name": "stdout",
     "output_type": "stream",
     "text": [
      "Gurobi Optimizer version 9.5.2 build v9.5.2rc0 (mac64[x86])\n",
      "Thread count: 2 physical cores, 4 logical processors, using up to 4 threads\n",
      "Optimize a model with 18 rows, 80 columns and 160 nonzeros\n",
      "Model fingerprint: 0x439e2a8f\n",
      "Coefficient statistics:\n",
      "  Matrix range     [1e+00, 1e+00]\n",
      "  Objective range  [5e+00, 5e+01]\n",
      "  Bounds range     [0e+00, 0e+00]\n",
      "  RHS range        [7e+01, 1e+03]\n",
      "Presolve time: 0.01s\n",
      "Presolved: 18 rows, 80 columns, 160 nonzeros\n",
      "\n",
      "Iteration    Objective       Primal Inf.    Dual Inf.      Time\n",
      "       0    0.0000000e+00   1.480000e+03   0.000000e+00      0s\n",
      "      23    1.8640000e+04   0.000000e+00   0.000000e+00      0s\n",
      "\n",
      "Solved in 23 iterations and 0.02 seconds (0.00 work units)\n",
      "Optimal objective  1.864000000e+04\n"
     ]
    }
   ],
   "source": [
    "prob_4.optimize()"
   ]
  },
  {
   "cell_type": "code",
   "execution_count": 46,
   "metadata": {},
   "outputs": [
    {
     "name": "stdout",
     "output_type": "stream",
     "text": [
      "X_S_1_D_9 = 110\n",
      "X_S_2_D_3 = 20\n",
      "X_S_2_D_6 = 60\n",
      "X_S_3_D_6 = 100\n",
      "X_S_4_D_2 = 100\n",
      "X_S_5_D_1 = 90\n",
      "X_S_5_D_9 = 10\n",
      "X_S_6_D_5 = 180\n",
      "X_S_6_D_10 = 70\n",
      "X_S_7_D_3 = 130\n",
      "X_S_8_D_4 = 190\n",
      "X_S_8_D_6 = 80\n",
      "X_S_8_D_7 = 210\n",
      "X_S_8_D_8 = 90\n",
      "X_S_8_D_9 = 40\n"
     ]
    }
   ],
   "source": [
    "for v in prob_4.getVars():\n",
    "    if v.x>0:\n",
    "        print(v.varName, \"=\", round(v.x))"
   ]
  },
  {
   "cell_type": "code",
   "execution_count": 47,
   "metadata": {},
   "outputs": [
    {
     "data": {
      "text/plain": [
       "18640.0"
      ]
     },
     "execution_count": 47,
     "metadata": {},
     "output_type": "execute_result"
    }
   ],
   "source": [
    "prob_4.objVal"
   ]
  },
  {
   "cell_type": "code",
   "execution_count": 48,
   "metadata": {},
   "outputs": [],
   "source": [
    "prob_5 = gb.Model(\"Problem 4 part 2\")"
   ]
  },
  {
   "cell_type": "code",
   "execution_count": 49,
   "metadata": {},
   "outputs": [],
   "source": [
    "T = prob_5.addVars(S,D, lb = 0, vtype = GRB.CONTINUOUS, name = [\"X_\"+i+\"_\"+j for i in SupplyCenter for j in DemandMarket])"
   ]
  },
  {
   "cell_type": "code",
   "execution_count": 50,
   "metadata": {},
   "outputs": [],
   "source": [
    "prob_5.setObjective(sum(Cost_3[i][j]*T[i,j] for i in range(S) for j in range(D)), GRB.MINIMIZE)\n",
    "# cost_3 is the cost matrix for when the S_8 row is equal to 100 dollars"
   ]
  },
  {
   "cell_type": "code",
   "execution_count": 51,
   "metadata": {},
   "outputs": [
    {
     "data": {
      "text/plain": [
       "<gurobi.Constr *Awaiting Model Update*>"
      ]
     },
     "execution_count": 51,
     "metadata": {},
     "output_type": "execute_result"
    }
   ],
   "source": [
    "for i in range(S-1):\n",
    "    prob_5.addConstr(sum(T[i,j] for j in range(D))<=Supply[i])\n",
    "\n",
    "for j in range(D):\n",
    "    prob_5.addConstr(sum(T[i,j] for i in range(S)) >= Demand[j])\n",
    "\n",
    "prob_5.addConstr(sum(T[7,j] for j in range(D))<=1480)"
   ]
  },
  {
   "cell_type": "code",
   "execution_count": 52,
   "metadata": {},
   "outputs": [
    {
     "name": "stdout",
     "output_type": "stream",
     "text": [
      "Gurobi Optimizer version 9.5.2 build v9.5.2rc0 (mac64[x86])\n",
      "Thread count: 2 physical cores, 4 logical processors, using up to 4 threads\n",
      "Optimize a model with 18 rows, 80 columns and 160 nonzeros\n",
      "Model fingerprint: 0x7dca54d5\n",
      "Coefficient statistics:\n",
      "  Matrix range     [1e+00, 1e+00]\n",
      "  Objective range  [5e+00, 1e+02]\n",
      "  Bounds range     [0e+00, 0e+00]\n",
      "  RHS range        [7e+01, 1e+03]\n",
      "Presolve time: 0.01s\n",
      "Presolved: 18 rows, 80 columns, 160 nonzeros\n",
      "\n",
      "Iteration    Objective       Primal Inf.    Dual Inf.      Time\n",
      "       0    0.0000000e+00   1.480000e+03   0.000000e+00      0s\n",
      "      24    5.4670000e+04   0.000000e+00   0.000000e+00      0s\n",
      "\n",
      "Solved in 24 iterations and 0.03 seconds (0.00 work units)\n",
      "Optimal objective  5.467000000e+04\n"
     ]
    }
   ],
   "source": [
    "prob_5.optimize()"
   ]
  },
  {
   "cell_type": "code",
   "execution_count": 53,
   "metadata": {},
   "outputs": [
    {
     "name": "stdout",
     "output_type": "stream",
     "text": [
      "X_S_1_D_9 = 110\n",
      "X_S_2_D_3 = 60\n",
      "X_S_2_D_6 = 20\n",
      "X_S_3_D_6 = 80\n",
      "X_S_3_D_7 = 20\n",
      "X_S_4_D_2 = 100\n",
      "X_S_4_D_6 = 140\n",
      "X_S_5_D_1 = 90\n",
      "X_S_5_D_9 = 10\n",
      "X_S_6_D_5 = 180\n",
      "X_S_6_D_8 = 30\n",
      "X_S_6_D_10 = 70\n",
      "X_S_7_D_3 = 90\n",
      "X_S_7_D_9 = 40\n",
      "X_S_8_D_4 = 190\n",
      "X_S_8_D_7 = 190\n",
      "X_S_8_D_8 = 60\n"
     ]
    }
   ],
   "source": [
    "for v in prob_5.getVars():\n",
    "    if v.x>0:\n",
    "        print(v.varName, \"=\", round(v.x))"
   ]
  },
  {
   "cell_type": "code",
   "execution_count": 54,
   "metadata": {},
   "outputs": [
    {
     "data": {
      "text/plain": [
       "54670.0"
      ]
     },
     "execution_count": 54,
     "metadata": {},
     "output_type": "execute_result"
    }
   ],
   "source": [
    "prob_5.objVal"
   ]
  },
  {
   "cell_type": "markdown",
   "metadata": {},
   "source": [
    "#### Interpretation of above results:\n",
    "When we set the price of not supplying to be at 20 dollars per tonne of milk, we get an optimal transportation cost of 18,640.00 dollars, with a supply allocation as shown above. However, when that same not-supplying cost is at 100 dollars, our optimal cost function takes the value of 54,670.00 dollars, same value as in problem 3 where supplying the whole stock was a necessity. \n",
    "This means that when cost of not supplying is at 20 dollars, it is cheaper for a our company to not deliver milk. But when it's at 100 dollars, it is more expensive to not deliver milk as their sale price is higher than delivery. Therefore, they would prefer delivering their whole stock and we'd be back to our previous scenario."
   ]
  },
  {
   "cell_type": "markdown",
   "metadata": {},
   "source": [
    "The above situation is related to Shadow price.\n",
    "\n",
    "Shadow price of a constraint: change in optimal objective function value if the constraint’s right-hand side is increased by one unit and all other problem data remains fixed.\n",
    "\n"
   ]
  },
  {
   "cell_type": "markdown",
   "metadata": {},
   "source": [
    "**Problem 5:**\n",
    "\n",
    "In Problems 2, 3 and 4, we assumed the no-supply cost is the same for all demand centers. However, this may not be the case. The estimations by the *short-term team* indicate that the cost of not supplying a tonne of milk to each demand center is as follows:\n",
    "\n",
    "| | $D_1$| $D_2$ | $D_3$ | $D_4$ | $D_5$ | $D_6$ | $D_7$ | $D_8$ | $D_9$ | $D_{10}$|\n",
    "|--| -- | -- | -- | -- | -- | -- | -- | -- | -- | -- |\n",
    "| Cost of not supplying (\\\\$/tonne) |15|20|25|30|28|35|32|15|25|10|\n",
    "\n",
    "Additionally, like Problem 2, the firm should supply all the milk provided by the remaining seven supply centers. Formulate the problem of minimizing the sum of total transportation and not supplying costs using Gurobi and then solve it. Report the optimal allocation and the minimum cost. Is the optimal allocation the same as Problem 2? Why?"
   ]
  },
  {
   "cell_type": "code",
   "execution_count": 55,
   "metadata": {},
   "outputs": [],
   "source": [
    "# Your solution for Problem 5:\n",
    "C = [[20, 49, 16, 30,  8, 35, 21, 40, 10, 12],\n",
    "        [15, 53, 7, 20, 47, 11, 16, 17, 15, 44],\n",
    "        [22, 25, 42, 22, 31, 9, 11, 29, 20, 5],\n",
    "        [45,  6, 33, 35, 49, 25, 30, 47, 32, 31],\n",
    "        [9, 12, 41, 15, 38, 14, 53, 22, 12, 13],\n",
    "        [21, 24, 32, 49, 5, 47, 30, 23, 37, 8],\n",
    "        [12, 19,  5, 28, 47, 39, 15, 35, 9, 51],\n",
    "        [34, 17, 10, 21, 9, 33, 14, 26, 19, 45],\n",
    "        [15, 20, 25, 30, 28, 35, 32, 15, 25, 10]]\n",
    "DummySupplier = [110, 80, 100, 240, 100, 280, 130, 0, 440]\n",
    "DummySupplyCenter = ['S_1', 'S_2', 'S_3', 'S_4', 'S_5', 'S_6', 'S_7', 'S_8', 'S_8_Dummy']\n",
    "SD=len(DummySupplyCenter)"
   ]
  },
  {
   "cell_type": "code",
   "execution_count": 56,
   "metadata": {},
   "outputs": [],
   "source": [
    "prob_6 = gb.Model(\"Problem 5\")"
   ]
  },
  {
   "cell_type": "code",
   "execution_count": 57,
   "metadata": {},
   "outputs": [],
   "source": [
    "Q = prob_6.addVars(SD,D, lb = 0, vtype = GRB.CONTINUOUS, name = [\"X_\"+i+\"_\"+j for i in DummySupplyCenter for j in DemandMarket])"
   ]
  },
  {
   "cell_type": "code",
   "execution_count": 58,
   "metadata": {},
   "outputs": [],
   "source": [
    "prob_6.setObjective(sum(C[i][j]*Q[i,j] for i in range(SD) for j in range(D)), GRB.MINIMIZE)"
   ]
  },
  {
   "cell_type": "code",
   "execution_count": 59,
   "metadata": {},
   "outputs": [],
   "source": [
    "for i in range(SD):\n",
    "    prob_6.addConstr(sum(Q[i,j] for j in range(D))<=DummySupplier[i])\n",
    "\n",
    "for j in range(D):\n",
    "    prob_6.addConstr(sum(Q[i,j] for i in range(SD)) >= Demand[j])"
   ]
  },
  {
   "cell_type": "code",
   "execution_count": 60,
   "metadata": {},
   "outputs": [
    {
     "name": "stdout",
     "output_type": "stream",
     "text": [
      "Gurobi Optimizer version 9.5.2 build v9.5.2rc0 (mac64[x86])\n",
      "Thread count: 2 physical cores, 4 logical processors, using up to 4 threads\n",
      "Optimize a model with 19 rows, 90 columns and 180 nonzeros\n",
      "Model fingerprint: 0x012601c2\n",
      "Coefficient statistics:\n",
      "  Matrix range     [1e+00, 1e+00]\n",
      "  Objective range  [5e+00, 5e+01]\n",
      "  Bounds range     [0e+00, 0e+00]\n",
      "  RHS range        [7e+01, 4e+02]\n",
      "Presolve removed 1 rows and 10 columns\n",
      "Presolve time: 0.01s\n",
      "Presolved: 18 rows, 80 columns, 160 nonzeros\n",
      "\n",
      "Iteration    Objective       Primal Inf.    Dual Inf.      Time\n",
      "       0    0.0000000e+00   1.850000e+02   0.000000e+00      0s\n",
      "      33    2.1980000e+04   0.000000e+00   0.000000e+00      0s\n",
      "\n",
      "Solved in 33 iterations and 0.03 seconds (0.00 work units)\n",
      "Optimal objective  2.198000000e+04\n"
     ]
    }
   ],
   "source": [
    "prob_6.optimize()"
   ]
  },
  {
   "cell_type": "code",
   "execution_count": 61,
   "metadata": {},
   "outputs": [
    {
     "name": "stdout",
     "output_type": "stream",
     "text": [
      "X_S_1_D_9 = 110\n",
      "X_S_2_D_6 = 80\n",
      "X_S_3_D_7 = 100\n",
      "X_S_4_D_2 = 100\n",
      "X_S_4_D_6 = 140\n",
      "X_S_5_D_4 = 80\n",
      "X_S_5_D_6 = 20\n",
      "X_S_6_D_5 = 180\n",
      "X_S_6_D_7 = 100\n",
      "X_S_7_D_3 = 130\n",
      "X_S_8_Dummy_D_1 = 90\n",
      "X_S_8_Dummy_D_3 = 20\n",
      "X_S_8_Dummy_D_4 = 110\n",
      "X_S_8_Dummy_D_7 = 10\n",
      "X_S_8_Dummy_D_8 = 90\n",
      "X_S_8_Dummy_D_9 = 50\n",
      "X_S_8_Dummy_D_10 = 70\n"
     ]
    }
   ],
   "source": [
    "for v in prob_6.getVars():\n",
    "    if v.x>0:\n",
    "        print(v.varName, \"=\", round(v.x))"
   ]
  },
  {
   "cell_type": "code",
   "execution_count": 62,
   "metadata": {},
   "outputs": [
    {
     "data": {
      "text/plain": [
       "21980.0"
      ]
     },
     "execution_count": 62,
     "metadata": {},
     "output_type": "execute_result"
    }
   ],
   "source": [
    "prob_6.objVal"
   ]
  },
  {
   "cell_type": "markdown",
   "metadata": {},
   "source": [
    "The optimal allocation is different from that in problem 2. Before, the cost of not supplying was always set to 0$. Now, depending on each demand center, the cost changes. Therefore, the model needs to figure out a way of re-allocating the centers to which we do not deliver, again in order to minimize total transporation cost."
   ]
  },
  {
   "cell_type": "markdown",
   "metadata": {},
   "source": [
    "**Problem 6:**\n",
    "\n",
    "Again, suppose not supplying milk to a demand market is costless (like Problem 2,) but the firm is still committed to supplying all the available milk. This time, the firm decides to supply the milk so that each demand center receives at least 50% of its demand. Formulate the problem of minimizing the total transportation costs using Gurobi and solve it. Then, report the optimal allocation and the minimum cost. \n",
    "\n",
    "Compare the optimal cost with your answer to Problem 2. Is it more or less? Why?\n",
    "\n",
    "Suppose the firm sets this bar to 90% - each demand center should receive at least 90% of its demand. Is it possible? What is the maximum possible percentage?"
   ]
  },
  {
   "cell_type": "code",
   "execution_count": 63,
   "metadata": {},
   "outputs": [],
   "source": [
    "# Your solution for Problem 6:"
   ]
  },
  {
   "cell_type": "code",
   "execution_count": 64,
   "metadata": {},
   "outputs": [
    {
     "name": "stdout",
     "output_type": "stream",
     "text": [
      "Gurobi Optimizer version 9.5.2 build v9.5.2rc0 (mac64[x86])\n",
      "Thread count: 2 physical cores, 4 logical processors, using up to 4 threads\n",
      "Optimize a model with 27 rows, 70 columns and 210 nonzeros\n",
      "Model fingerprint: 0x9102bf9e\n",
      "Coefficient statistics:\n",
      "  Matrix range     [1e+00, 1e+00]\n",
      "  Objective range  [5e+00, 5e+01]\n",
      "  Bounds range     [0e+00, 0e+00]\n",
      "  RHS range        [4e+01, 3e+02]\n",
      "Presolve removed 10 rows and 0 columns\n",
      "Presolve time: 0.01s\n",
      "Presolved: 17 rows, 80 columns, 150 nonzeros\n",
      "\n",
      "Iteration    Objective       Primal Inf.    Dual Inf.      Time\n",
      "       0    0.0000000e+00   2.225000e+02   0.000000e+00      0s\n",
      "      22    1.1605000e+04   0.000000e+00   0.000000e+00      0s\n",
      "\n",
      "Solved in 22 iterations and 0.03 seconds (0.00 work units)\n",
      "Optimal objective  1.160500000e+04\n",
      "\n",
      "The optimal allocation is:\n",
      "S_1_to_D_9 = 110\n",
      "S_2_to_D_3 = 65\n",
      "S_2_to_D_8 = 15\n",
      "S_3_to_D_7 = 100\n",
      "S_4_to_D_2 = 100\n",
      "S_4_to_D_6 = 135\n",
      "S_4_to_D_7 = 5\n",
      "S_5_to_D_1 = 5\n",
      "S_5_to_D_4 = 95\n",
      "S_6_to_D_5 = 180\n",
      "S_6_to_D_8 = 30\n",
      "S_6_to_D_10 = 70\n",
      "S_7_to_D_1 = 40\n",
      "S_7_to_D_3 = 85\n",
      "S_7_to_D_9 = 5\n",
      "\n",
      "The minimum cost for this problem is: $ 11605.0\n"
     ]
    }
   ],
   "source": [
    "C2 = [[20, 49, 16, 30,  8, 35, 21, 40, 10, 12],\n",
    "      [15, 53, 7, 20, 47, 11, 16, 17, 15, 44],\n",
    "      [22, 25, 42, 22, 31, 9, 11, 29, 20, 5],\n",
    "      [45,  6, 33, 35, 49, 25, 30, 47, 32, 31],\n",
    "      [9, 12, 41, 15, 38, 14, 53, 22, 12, 13],\n",
    "      [21, 24, 32, 49, 5, 47, 30, 23, 37, 8],\n",
    "      [12, 19,  5, 28, 47, 39, 15, 35, 9, 51]]\n",
    "\n",
    "SupplyCenter = ['S_1', 'S_2', 'S_3', 'S_4', 'S_5', 'S_6', 'S_7']\n",
    "Supply = [110, 80, 100, 240, 100, 280, 130]\n",
    "DemandMarket = ['D_1', 'D_2', 'D_3', 'D_4', 'D_5', 'D_6', 'D_7', 'D_8', 'D_9', 'D_10']\n",
    "Demand = [90, 100, 150, 190, 180, 240, 210, 90, 160, 70]\n",
    "\n",
    "S= len(SupplyCenter)\n",
    "D= len(DemandMarket)\n",
    "\n",
    "prob_7 = gb.Model(\"Fresh Milk Transportation with (50%\")\n",
    "H = prob_7.addVars(S,D, lb = 0, vtype = GRB.CONTINUOUS, name = [SupplyCenter[i]+\"_to_\"+DemandMarket[j] for i in range(S) for j in range(D)])\n",
    "\n",
    "prob_7.setObjective(sum(C2[i][j]*H[i,j] for i in range(S) for j in range(D))+ 0*(sum(Demand[j] for j in range(D)) - sum(H[i,j] for i in range(S) for j in range(D))),\n",
    "                  GRB.MINIMIZE)\n",
    "\n",
    "for i in range(S):\n",
    "    prob_7.addConstr(sum(H[i,j] for j in range(D))==Supply[i])\n",
    "\n",
    "for j in range(D):\n",
    "    prob_7.addConstr(sum(H[i,j] for i in range(S))<=Demand[j])    \n",
    "    \n",
    "for j in range(D):\n",
    "    prob_7.addConstr(sum(H[i,j] for i in range(S)) >=Demand[j]*0.5)\n",
    "    \n",
    "prob_7.optimize()\n",
    "\n",
    "print(\"\\nThe optimal allocation is:\")\n",
    "for v in prob_7.getVars():\n",
    "    if v.x>0:\n",
    "        print(v.varName, \"=\", round(v.x))\n",
    "        \n",
    "print(\"\\nThe minimum cost for this problem is: $\",prob_7.Objval) "
   ]
  },
  {
   "cell_type": "markdown",
   "metadata": {},
   "source": [
    "We can see that when we have a requirement 50%, the transporattion cost is higher than in Question 2. The reason is because this requirement contrains the model to deliver at least 50%, which was nor the case in Q2 where undersupply could be done to any degree."
   ]
  },
  {
   "cell_type": "code",
   "execution_count": 65,
   "metadata": {},
   "outputs": [
    {
     "name": "stdout",
     "output_type": "stream",
     "text": [
      "Gurobi Optimizer version 9.5.2 build v9.5.2rc0 (mac64[x86])\n",
      "Thread count: 2 physical cores, 4 logical processors, using up to 4 threads\n",
      "Optimize a model with 27 rows, 70 columns and 210 nonzeros\n",
      "Model fingerprint: 0xe19f8cf7\n",
      "Coefficient statistics:\n",
      "  Matrix range     [1e+00, 1e+00]\n",
      "  Objective range  [5e+00, 5e+01]\n",
      "  Bounds range     [0e+00, 0e+00]\n",
      "  RHS range        [6e+01, 3e+02]\n",
      "Presolve removed 10 rows and 0 columns\n",
      "Presolve time: 0.01s\n",
      "Presolved: 17 rows, 80 columns, 150 nonzeros\n",
      "\n",
      "Iteration    Objective       Primal Inf.    Dual Inf.      Time\n",
      "       0    0.0000000e+00   2.965000e+02   0.000000e+00      0s\n",
      "\n",
      "Solved in 15 iterations and 0.03 seconds (0.00 work units)\n",
      "Infeasible model\n"
     ]
    }
   ],
   "source": [
    "C2 = [[20, 49, 16, 30,  8, 35, 21, 40, 10, 12],\n",
    "      [15, 53, 7, 20, 47, 11, 16, 17, 15, 44],\n",
    "      [22, 25, 42, 22, 31, 9, 11, 29, 20, 5],\n",
    "      [45,  6, 33, 35, 49, 25, 30, 47, 32, 31],\n",
    "      [9, 12, 41, 15, 38, 14, 53, 22, 12, 13],\n",
    "      [21, 24, 32, 49, 5, 47, 30, 23, 37, 8],\n",
    "      [12, 19,  5, 28, 47, 39, 15, 35, 9, 51]]\n",
    "\n",
    "SupplyCenter = ['S_1', 'S_2', 'S_3', 'S_4', 'S_5', 'S_6', 'S_7']\n",
    "Supply = [110, 80, 100, 240, 100, 280, 130]\n",
    "DemandMarket = ['D_1', 'D_2', 'D_3', 'D_4', 'D_5', 'D_6', 'D_7', 'D_8', 'D_9', 'D_10']\n",
    "Demand = [90, 100, 150, 190, 180, 240, 210, 90, 160, 70]\n",
    "\n",
    "S= len(SupplyCenter)\n",
    "D= len(DemandMarket)\n",
    "\n",
    "prob_8 = gb.Model(\"Fresh Milk Transportation with (50%\")\n",
    "E = prob_8.addVars(S,D, lb = 0, vtype = GRB.CONTINUOUS, name = [SupplyCenter[i]+\"_to_\"+DemandMarket[j] for i in range(S) for j in range(D)])\n",
    "\n",
    "prob_8.setObjective(sum(C2[i][j]*E[i,j] for i in range(S) for j in range(D))+ 0*(sum(Demand[j] for j in range(D)) - sum(E[i,j] for i in range(S) for j in range(D))),\n",
    "                  GRB.MINIMIZE)\n",
    "\n",
    "for i in range(S):\n",
    "    prob_8.addConstr(sum(E[i,j] for j in range(D))==Supply[i])\n",
    "\n",
    "for j in range(D):\n",
    "    prob_8.addConstr(sum(E[i,j] for i in range(S))<=Demand[j])    \n",
    "    \n",
    "for j in range(D):\n",
    "    prob_8.addConstr(sum(E[i,j] for i in range(S)) >=Demand[j]*0.9)\n",
    "    \n",
    "prob_8.optimize()"
   ]
  },
  {
   "cell_type": "markdown",
   "metadata": {},
   "source": [
    "We can see that for 90%, the problem is not feasable. That is because the maximal percentage of delivery that can be constrained of the model is is (1040/1480) = 70.27% This is obtained by doing the ratio of available stock over total stock. Thus, 90% delivery is an infeasable model."
   ]
  },
  {
   "cell_type": "markdown",
   "metadata": {},
   "source": [
    "**Problem 7:**\n",
    "\n",
    "Suppose the cost of not supplying each tonne of milk to each demand center is 70\\\\$/tone. As a short-term solution, the firm can ask one of the seven remaining suppliers to add 100 tonnes of milk to its supplying capacity by paying the selected supplier 1000\\\\$. Which supplier should the firm ask for this capacity boost to minimize costs? What is the change in the costs due to this boost? Can you solve this problem without redefining the problem for each supplier?"
   ]
  },
  {
   "cell_type": "code",
   "execution_count": 66,
   "metadata": {},
   "outputs": [
    {
     "name": "stdout",
     "output_type": "stream",
     "text": [
      "Gurobi Optimizer version 9.5.2 build v9.5.2rc0 (mac64[x86])\n",
      "Thread count: 2 physical cores, 4 logical processors, using up to 4 threads\n",
      "Optimize a model with 17 rows, 70 columns and 140 nonzeros\n",
      "Model fingerprint: 0xe2f22c2d\n",
      "Coefficient statistics:\n",
      "  Matrix range     [1e+00, 1e+00]\n",
      "  Objective range  [2e+01, 6e+01]\n",
      "  Bounds range     [0e+00, 0e+00]\n",
      "  RHS range        [7e+01, 3e+02]\n",
      "Presolve time: 0.01s\n",
      "Presolved: 17 rows, 70 columns, 140 nonzeros\n",
      "\n",
      "Iteration    Objective       Primal Inf.    Dual Inf.      Time\n",
      "       0   -3.1000000e+33   1.400000e+32   3.100000e+03      0s\n",
      "      16    4.1470000e+04   0.000000e+00   0.000000e+00      0s\n",
      "\n",
      "Solved in 16 iterations and 0.02 seconds (0.00 work units)\n",
      "Optimal objective  4.147000000e+04\n",
      "\n",
      "The optimal allocation is:\n",
      "S_1_to_D_9 = 110\n",
      "S_2_to_D_3 = 60\n",
      "S_2_to_D_6 = 20\n",
      "S_3_to_D_6 = 80\n",
      "S_3_to_D_7 = 20\n",
      "S_4_to_D_2 = 100\n",
      "S_4_to_D_6 = 140\n",
      "S_5_to_D_1 = 90\n",
      "S_5_to_D_9 = 10\n",
      "S_6_to_D_5 = 180\n",
      "S_6_to_D_8 = 30\n",
      "S_6_to_D_10 = 70\n",
      "S_7_to_D_3 = 90\n",
      "S_7_to_D_9 = 40\n",
      "\n",
      "The minimum cost for this problem is: $ 41470.0\n",
      "Sensitivity Analysis (SA)\n",
      " ObjVal = 41470.0\n",
      "\n",
      "  Constraint        Sense        Slack           Pi          RHS     SARHSLow      SARHSUp \n",
      "------------------------------------------------------------------------------------------\n",
      "          R0            =            0          -58          110           90          150 \n",
      "          R1            =            0          -57           80           60          160 \n",
      "          R2            =            0          -59          100           80          290 \n",
      "          R3            =            0          -43          240          220          320 \n",
      "          R4            =            0          -56          100           90          140 \n",
      "          R5            =            0          -47          280          250          340 \n",
      "          R6            =            0          -59          130          110          190 \n",
      "          R7            <            0           -5           90           50          100 \n",
      "          R8            <            0          -21          100           20          120 \n",
      "          R9            <            0           -6          150           90          170 \n",
      "         R10            <          190            0          190            0          inf \n",
      "         R11            <            0          -18          180          120          210 \n",
      "         R12            <            0           -2          240          160          260 \n",
      "         R13            <          190            0          210           20          inf \n",
      "         R14            <           60            0           90           30          inf \n",
      "         R15            <            0           -2          160          120          180 \n",
      "         R16            <            0          -15           70           10          100 \n"
     ]
    }
   ],
   "source": [
    "# Your solution for Problem 7:\n",
    "\n",
    "C3 = [[20, 49, 16, 30,  8, 35, 21, 40, 10, 12],\n",
    "      [15, 53, 7, 20, 47, 11, 16, 17, 15, 44],\n",
    "      [22, 25, 42, 22, 31, 9, 11, 29, 20, 5],\n",
    "      [45,  6, 33, 35, 49, 25, 30, 47, 32, 31],\n",
    "      [9, 12, 41, 15, 38, 14, 53, 22, 12, 13],\n",
    "      [21, 24, 32, 49, 5, 47, 30, 23, 37, 8],\n",
    "      [12, 19,  5, 28, 47, 39, 15, 35, 9, 51]]\n",
    "\n",
    "SupplyCenter = ['S_1', 'S_2', 'S_3', 'S_4', 'S_5', 'S_6', 'S_7']\n",
    "Supply = [110, 80, 100, 240, 100, 280, 130]\n",
    "DemandMarket = ['D_1', 'D_2', 'D_3', 'D_4', 'D_5', 'D_6', 'D_7', 'D_8', 'D_9', 'D_10']\n",
    "Demand = [90, 100, 150, 190, 180, 240, 210, 90, 160, 70]\n",
    "\n",
    "import gurobipy as gb\n",
    "from gurobipy import * \n",
    "\n",
    "S= len(SupplyCenter)\n",
    "D= len(DemandMarket)\n",
    "\n",
    "\n",
    "prob_9 = gb.Model(\"Problem 7\")\n",
    "P = prob_9.addVars(S,D, lb = 0, vtype = GRB.CONTINUOUS, name = [i+\"_to_\"+j for i in SupplyCenter for j in DemandMarket])\n",
    "\n",
    "prob_9.setObjective(sum(C3[i][j]*P[i,j] for i in range(S) for j in range(D)) + 70 * (sum(Demand[j] for j in range(D)) - sum(P[i,j] for i in range(S) for j in range(D))),\n",
    "                  GRB.MINIMIZE)\n",
    "\n",
    "\n",
    "for i in range(S):\n",
    "        prob_9.addConstr(sum(P[i,j] for j in range(D))==Supply[i])\n",
    "\n",
    "for j in range(D):\n",
    "    prob_9.addConstr(sum(P[i,j] for i in range(S))<=Demand[j])    \n",
    "\n",
    "\n",
    "prob_9.optimize()\n",
    "\n",
    "print(\"\\nThe optimal allocation is:\")\n",
    "for v in prob_9.getVars():\n",
    "    if v.x>0:\n",
    "        print(v.varName, \"=\", round(v.x))\n",
    "        \n",
    "print(\"\\nThe minimum cost for this problem is: $\",prob_9.Objval)\n",
    "\n",
    "print('Sensitivity Analysis (SA)\\n ObjVal =', prob_9.ObjVal)\n",
    "\n",
    "prob_9.printAttr(['Sense', 'Slack', 'Pi', 'RHS', 'SARHSLow', 'SARHSUp'])"
   ]
  },
  {
   "cell_type": "markdown",
   "metadata": {},
   "source": [
    "From the above sensitivity analysis, we can deduce that the 3rd supplier (R2) is the best option of suppliers. Its shadow price is the smallest (-59) with a possible maximum value of 290, which is equilavent to an increase of up to 190 tonnes. Thus, it is the only supplier that can add 100 tonnes of milk to its supplying capacity.\n",
    "Due to this boost, the change of cost is as follows:\n",
    "\n",
    "41470-59 * 100+1000 = 41470 - 36570 = 4900\n",
    "\n",
    "So the change of cost is of $4900.\n"
   ]
  }
 ],
 "metadata": {
  "kernelspec": {
   "display_name": "Python 3 (ipykernel)",
   "language": "python",
   "name": "python3"
  },
  "language_info": {
   "codemirror_mode": {
    "name": "ipython",
    "version": 3
   },
   "file_extension": ".py",
   "mimetype": "text/x-python",
   "name": "python",
   "nbconvert_exporter": "python",
   "pygments_lexer": "ipython3",
   "version": "3.9.12"
  }
 },
 "nbformat": 4,
 "nbformat_minor": 4
}
