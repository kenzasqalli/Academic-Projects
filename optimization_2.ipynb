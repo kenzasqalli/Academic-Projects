{
 "cells": [
  {
   "cell_type": "markdown",
   "metadata": {
    "id": "7O9D0ALMbGPx"
   },
   "source": [
    "# MMA 662 - Assignment 2\n",
    "\n",
    "\n",
    "\n"
   ]
  },
  {
   "cell_type": "markdown",
   "metadata": {
    "id": "3liDbd-MmTCS"
   },
   "source": [
    "Installing Gurobi package:"
   ]
  },
  {
   "cell_type": "code",
   "execution_count": 1,
   "metadata": {
    "id": "8NlqZHVPcuJ3"
   },
   "outputs": [],
   "source": [
    "# Uncomment if working with Colab:\n",
    "# !pip install gurobipy\n",
    "import gurobipy as gp\n",
    "from gurobipy import *\n",
    "\n",
    "import numpy as np\n",
    "import pandas as pd"
   ]
  },
  {
   "cell_type": "markdown",
   "metadata": {},
   "source": [
    "## 1: The Apportionment Problem."
   ]
  },
  {
   "cell_type": "markdown",
   "metadata": {
    "id": "B9FQv4V4tXih"
   },
   "source": [
    "Dataset:\n"
   ]
  },
  {
   "cell_type": "code",
   "execution_count": 2,
   "metadata": {
    "id": "hllyMorz5Sx-"
   },
   "outputs": [],
   "source": [
    "# Population list:\n",
    "Pop = np.array([5300000, 9200000, 5400000, 8000000, 3200000, \n",
    "                8800000, 8100000, 10100000, 3600000, 6200000, \n",
    "                11700000, 5800000, 7000000, 6300000, 4800000, \n",
    "                10700000, 7000000, 9400000, 6400000, 9100000])\n",
    "\n",
    "# Quota (q_i) list:\n",
    "Quota = np.array([21.80219, 37.84531, 22.21355, 32.90897, 13.16359, \n",
    "                  36.19986, 33.32033, 41.54757, 14.80903, 25.50445, \n",
    "                  48.12936, 23.859, 28.79535, 25.91581, 19.74538, \n",
    "                  44.01574, 28.79535, 38.66804, 26.32717, 37.43395])\n",
    "\n",
    "# Province list:\n",
    "Province = np.array(['P0', 'P1', 'P2', 'P3', 'P4', \n",
    "                      'P5', 'P6', 'P7', 'P8', 'P9', \n",
    "                      'P10', 'P11', 'P12', 'P13', 'P14', \n",
    "                      'P15', 'P16', 'P17', 'P18', 'P19'])\n",
    "\n",
    "# Total seats:\n",
    "s = 601"
   ]
  },
  {
   "cell_type": "markdown",
   "metadata": {
    "id": "JxTSsVbIDjpA"
   },
   "source": [
    "### 1.1: Minimize the sum of absolute gaps."
   ]
  },
  {
   "cell_type": "code",
   "execution_count": null,
   "metadata": {},
   "outputs": [],
   "source": [
    "Quota.tolist()"
   ]
  },
  {
   "cell_type": "code",
   "execution_count": 10,
   "metadata": {
    "scrolled": true
   },
   "outputs": [
    {
     "name": "stdout",
     "output_type": "stream",
     "text": [
      "Gurobi Optimizer version 9.5.2 build v9.5.2rc0 (mac64[x86])\n",
      "Thread count: 2 physical cores, 4 logical processors, using up to 4 threads\n",
      "Optimize a model with 41 rows, 40 columns and 100 nonzeros\n",
      "Model fingerprint: 0x7779cd77\n",
      "Variable types: 20 continuous, 20 integer (0 binary)\n",
      "Coefficient statistics:\n",
      "  Matrix range     [1e+00, 1e+00]\n",
      "  Objective range  [1e+00, 1e+00]\n",
      "  Bounds range     [0e+00, 0e+00]\n",
      "  RHS range        [1e+01, 6e+02]\n",
      "Found heuristic solution: objective 1149.3456604\n",
      "Presolve time: 0.00s\n",
      "Presolved: 41 rows, 40 columns, 100 nonzeros\n",
      "Variable types: 20 continuous, 20 integer (0 binary)\n",
      "\n",
      "Root relaxation: objective 0.000000e+00, 24 iterations, 0.00 seconds (0.00 work units)\n",
      "\n",
      "    Nodes    |    Current Node    |     Objective Bounds      |     Work\n",
      " Expl Unexpl |  Obj  Depth IntInf | Incumbent    BestBd   Gap | It/Node Time\n",
      "\n",
      "     0     0    0.00000    0   20 1149.34566    0.00000   100%     -    0s\n",
      "H    0     0                       5.6071000    0.00000   100%     -    0s\n",
      "     0     0    3.23601    0   20    5.60710    3.23601  42.3%     -    0s\n",
      "H    0     0                       4.6160000    3.23601  29.9%     -    0s\n",
      "     0     0     cutoff    0         4.61600    4.61600  0.00%     -    0s\n",
      "\n",
      "Cutting planes:\n",
      "  Gomory: 1\n",
      "  MIR: 69\n",
      "\n",
      "Explored 1 nodes (99 simplex iterations) in 0.15 seconds (0.00 work units)\n",
      "Thread count was 4 (of 4 available processors)\n",
      "\n",
      "Solution count 3: 4.616 5.6071 1149.35 \n",
      "\n",
      "Optimal solution found (tolerance 1.00e-04)\n",
      "Best objective 4.616000000000e+00, best bound 4.616000000000e+00, gap 0.0000%\n",
      "Allocation for Province 0 = 22.0\n",
      "Allocation for Province 1 = 38.0\n",
      "Allocation for Province 2 = 22.0\n",
      "Allocation for Province 3 = 33.0\n",
      "Allocation for Province 4 = 13.0\n",
      "Allocation for Province 5 = 36.0\n",
      "Allocation for Province 6 = 33.0\n",
      "Allocation for Province 7 = 42.0\n",
      "Allocation for Province 8 = 15.0\n",
      "Allocation for Province 9 = 25.0\n",
      "Allocation for Province 10 = 48.0\n",
      "Allocation for Province 11 = 24.0\n",
      "Allocation for Province 12 = 29.0\n",
      "Allocation for Province 13 = 26.0\n",
      "Allocation for Province 14 = 20.0\n",
      "Allocation for Province 15 = 44.0\n",
      "Allocation for Province 16 = 29.0\n",
      "Allocation for Province 17 = 39.0\n",
      "Allocation for Province 18 = 26.0\n",
      "Allocation for Province 19 = 37.0\n",
      "Absolute Error for Province 0 = 0.19781000000000126\n",
      "Absolute Error for Province 1 = 0.15469000000000194\n",
      "Absolute Error for Province 2 = 0.21355000000000157\n",
      "Absolute Error for Province 3 = 0.09103000000000343\n",
      "Absolute Error for Province 4 = 0.1635899999999989\n",
      "Absolute Error for Province 5 = 0.1998600000000015\n",
      "Absolute Error for Province 6 = 0.3203299999999995\n",
      "Absolute Error for Province 7 = 0.45243000000000294\n",
      "Absolute Error for Province 8 = 0.19096999999999995\n",
      "Absolute Error for Province 9 = 0.5044499999999992\n",
      "Absolute Error for Province 10 = 0.12935999999999814\n",
      "Absolute Error for Province 11 = 0.1409999999999987\n",
      "Absolute Error for Province 12 = 0.20465000000000105\n",
      "Absolute Error for Province 13 = 0.08418999999999933\n",
      "Absolute Error for Province 14 = 0.2546199999999993\n",
      "Absolute Error for Province 15 = 0.015740000000000986\n",
      "Absolute Error for Province 16 = 0.20465000000000105\n",
      "Absolute Error for Province 17 = 0.33196000000000137\n",
      "Absolute Error for Province 18 = 0.3271700000000005\n",
      "Absolute Error for Province 19 = 0.4339500000000028\n"
     ]
    }
   ],
   "source": [
    "# Your solution for 1.1\n",
    "P = len(Province)\n",
    "\n",
    "model = gp.Model(\"Minimizing Sum Absolute Gaps\")\n",
    "\n",
    "# Defining Variables:\n",
    "A = model.addVars(P, vtype=gp.GRB.INTEGER, name=[\"Allocation for Province \"+str(i) for i in range(P)])\n",
    "Z = model.addVars(P, vtype = GRB.CONTINUOUS, name = [\"Absolute Error for Province \"+str(i) for i in range(P)])\n",
    "\n",
    "# Constrains:\n",
    "## All seats should be filled\n",
    "model.addConstr(gp.quicksum(A[i] for i in range(P)) == s, name='All seats are filled')\n",
    "\n",
    "## Absolute value constraint:\n",
    "model.addConstrs((Z[i] >= Quota[i] - A[i] for i in range(P)), name = \"Absolute value for positive Gap\")\n",
    "model.addConstrs((Z[i] >= -(Quota[i] - A[i]) for i in range(P)), name = \"Absolute value for negative Gap\")\n",
    "\n",
    "\n",
    "# Objective function:\n",
    "model.setObjective(gp.quicksum(Z[i] for i in range(P)), GRB.MINIMIZE)\n",
    "\n",
    "\n",
    "model.optimize()\n",
    "\n",
    "for v in model.getVars():\n",
    "    print(v.varname, \"=\", v.x)"
   ]
  },
  {
   "cell_type": "markdown",
   "metadata": {},
   "source": [
    "### Question a) :\n",
    "\n",
    "This linearization is now valid as both our objective function and the constraints are linear, allowing us to use a linear optimization model. The model still gives us the right answer to our problem as it \"fakes\" the absolute value by us implementing constraints of absolute value.\n",
    "\n",
    "Indeed, if Quota[i] - A[i] is positive, the fact that E[i] is greater than the difference is quite obvious. But if Quota[i] - A[i] is negative, putting E[i] as greater than the difference automatically creates the same effect as the absolute value because Gurobi automatically implements the non-negativity constraint for each of the variables.\n",
    "\n",
    "* Number of decision variables: 40 (20 for allocation and 20 for absolute error)\n",
    "* Number of constraints: 41 (1 for sum(A[i])=s, 20 for \"Absolute value for positive Gap\" and 20 for \"Absolute value for negative Gap\")\n",
    "\n",
    "\n",
    "### Question b) : \n",
    "The minimized Sum of Gaps for this problem is equal to 4.616000000000013"
   ]
  },
  {
   "cell_type": "code",
   "execution_count": 10,
   "metadata": {},
   "outputs": [
    {
     "name": "stdout",
     "output_type": "stream",
     "text": [
      "b) The minimized Sum of Gaps for this problem is equal to: 4.616000000000013\n"
     ]
    }
   ],
   "source": [
    "obj = model.getObjective()\n",
    "print(\"b) The minimized Sum of Gaps for this problem is equal to:\", obj.getValue())"
   ]
  },
  {
   "cell_type": "markdown",
   "metadata": {
    "id": "6IJZLC6JohOS"
   },
   "source": [
    "### 1.2: Min-max."
   ]
  },
  {
   "cell_type": "code",
   "execution_count": 11,
   "metadata": {
    "scrolled": true
   },
   "outputs": [
    {
     "name": "stdout",
     "output_type": "stream",
     "text": [
      "Gurobi Optimizer version 9.5.2 build v9.5.2rc0 (mac64[x86])\n",
      "Thread count: 2 physical cores, 4 logical processors, using up to 4 threads\n",
      "Optimize a model with 41 rows, 21 columns and 100 nonzeros\n",
      "Model fingerprint: 0xdd0d5cf5\n",
      "Variable types: 1 continuous, 20 integer (0 binary)\n",
      "Coefficient statistics:\n",
      "  Matrix range     [1e+00, 1e+00]\n",
      "  Objective range  [1e+00, 1e+00]\n",
      "  Bounds range     [0e+00, 0e+00]\n",
      "  RHS range        [1e+01, 6e+02]\n",
      "Found heuristic solution: objective 574.6728301\n",
      "Presolve time: 0.00s\n",
      "Presolved: 41 rows, 21 columns, 100 nonzeros\n",
      "Variable types: 1 continuous, 20 integer (0 binary)\n",
      "\n",
      "Root relaxation: objective 0.000000e+00, 24 iterations, 0.00 seconds (0.00 work units)\n",
      "\n",
      "    Nodes    |    Current Node    |     Objective Bounds      |     Work\n",
      " Expl Unexpl |  Obj  Depth IntInf | Incumbent    BestBd   Gap | It/Node Time\n",
      "\n",
      "     0     0    0.00000    0   20  574.67283    0.00000   100%     -    0s\n",
      "H    0     0                       0.5475700    0.00000   100%     -    0s\n",
      "H    0     0                       0.5044500    0.00000   100%     -    0s\n",
      "     0     0     cutoff    0         0.50445    0.50445  0.00%     -    0s\n",
      "\n",
      "Explored 1 nodes (43 simplex iterations) in 0.10 seconds (0.00 work units)\n",
      "Thread count was 4 (of 4 available processors)\n",
      "\n",
      "Solution count 3: 0.50445 0.54757 574.673 \n",
      "\n",
      "Optimal solution found (tolerance 1.00e-04)\n",
      "Best objective 5.044500000000e-01, best bound 5.044500000000e-01, gap 0.0000%\n",
      "Allocation for Province 0 = 22.0\n",
      "Allocation for Province 1 = 38.0\n",
      "Allocation for Province 2 = 22.0\n",
      "Allocation for Province 3 = 33.0\n",
      "Allocation for Province 4 = 13.0\n",
      "Allocation for Province 5 = 36.0\n",
      "Allocation for Province 6 = 33.0\n",
      "Allocation for Province 7 = 42.0\n",
      "Allocation for Province 8 = 15.0\n",
      "Allocation for Province 9 = 25.0\n",
      "Allocation for Province 10 = 48.0\n",
      "Allocation for Province 11 = 24.0\n",
      "Allocation for Province 12 = 29.0\n",
      "Allocation for Province 13 = 26.0\n",
      "Allocation for Province 14 = 20.0\n",
      "Allocation for Province 15 = 44.0\n",
      "Allocation for Province 16 = 29.0\n",
      "Allocation for Province 17 = 39.0\n",
      "Allocation for Province 18 = 26.0\n",
      "Allocation for Province 19 = 37.0\n",
      "Maximum Absolute Error = 0.504449999999991\n"
     ]
    }
   ],
   "source": [
    "# Your solution for 1.2\n",
    "P = len(Province)\n",
    "model = gp.Model(\"Min-max\")\n",
    "\n",
    "# Defining Variables:\n",
    "A = model.addVars(P, vtype=gp.GRB.INTEGER, name=[\"Allocation for Province \"+str(i) for i in range(P)])\n",
    "Z = model.addVar(vtype = GRB.CONTINUOUS, name='Maximum Absolute Error')\n",
    "\n",
    "# Constrains:\n",
    "## All seats should be filled\n",
    "model.addConstr(gp.quicksum(A[i] for i in range(P)) == s, name='All seats are filled')\n",
    "\n",
    "## Absolute value constraint:\n",
    "model.addConstrs((Z >= Quota[i] - A[i] for i in range(P)), name = \"Absolute value for positive Gap\")\n",
    "model.addConstrs((Z >= -(Quota[i] - A[i]) for i in range(P)), name = \"Absolute value for negative Gap\")\n",
    "\n",
    "# Objective function:\n",
    "model.setObjective(Z, GRB.MINIMIZE)\n",
    "\n",
    "\n",
    "model.optimize()\n",
    "\n",
    "for v in model.getVars():\n",
    "    print(v.varname, \"=\", v.x)"
   ]
  },
  {
   "cell_type": "markdown",
   "metadata": {},
   "source": [
    "### Question a) : \n",
    "\n",
    "For the same reason as in 1.1, the linearization of this model is valid due to how we \"faked\" the absolute value function because of the Absolute value constraints implemented above in our code.\n",
    "\n",
    "This model is similar to the one in 1.1 and gives the same results because minimizing the maximum value of the largest gap (for some i) affects all the other Z[i] variables we would have had if we coded this problem the same way we did in Problem 1.1 by therefore putting all their values below our newly created Z variable. It is therefore more efficient to solve the problem this way as we do not have to implement as many variables as in Problem 1.1.\n",
    "\n",
    "* Number of decision variables: 21 (20 for the allocation part, and 1 for the maximum absolute error)\n",
    "* Number of constraints: 41 (1 for sum(A[i])=s, 20 for \"Absolute value for positive Gap\" and 20 for \"Absolute value for negative Gap\")\n",
    "\n",
    "### Question b):\n",
    "The maximum absolute error is equal to 0.504449999999991 (see code above)"
   ]
  },
  {
   "cell_type": "markdown",
   "metadata": {
    "id": "39ms3yyFbtZf"
   },
   "source": [
    "### 1.3: Political considerations."
   ]
  },
  {
   "cell_type": "code",
   "execution_count": 7,
   "metadata": {
    "scrolled": true
   },
   "outputs": [
    {
     "name": "stdout",
     "output_type": "stream",
     "text": [
      "Gurobi Optimizer version 9.5.2 build v9.5.2rc0 (mac64[x86])\n",
      "Thread count: 2 physical cores, 4 logical processors, using up to 4 threads\n",
      "Optimize a model with 48 rows, 41 columns and 111 nonzeros\n",
      "Model fingerprint: 0xa791b00f\n",
      "Variable types: 20 continuous, 21 integer (1 binary)\n",
      "Coefficient statistics:\n",
      "  Matrix range     [1e+00, 1e+02]\n",
      "  Objective range  [1e+00, 1e+00]\n",
      "  Bounds range     [1e+00, 1e+00]\n",
      "  RHS range        [1e+01, 6e+02]\n",
      "Found heuristic solution: objective 1149.3456604\n",
      "Presolve removed 10 rows and 6 columns\n",
      "Presolve time: 0.00s\n",
      "Presolved: 38 rows, 35 columns, 94 nonzeros\n",
      "Found heuristic solution: objective 1148.3456606\n",
      "Variable types: 17 continuous, 18 integer (1 binary)\n",
      "Found heuristic solution: objective 1147.3456606\n",
      "\n",
      "Root relaxation: objective 3.140300e+00, 27 iterations, 0.00 seconds (0.00 work units)\n",
      "\n",
      "    Nodes    |    Current Node    |     Objective Bounds      |     Work\n",
      " Expl Unexpl |  Obj  Depth IntInf | Incumbent    BestBd   Gap | It/Node Time\n",
      "\n",
      "     0     0    3.14030    0   15 1147.34566    3.14030   100%     -    0s\n",
      "H    0     0                       7.5701400    3.14030  58.5%     -    0s\n",
      "     0     0    5.54963    0   16    7.57014    5.54963  26.7%     -    0s\n",
      "H    0     0                       6.5749200    5.54963  15.6%     -    0s\n",
      "     0     0 infeasible    0         6.57492    6.57492  0.00%     -    0s\n",
      "\n",
      "Cutting planes:\n",
      "  Gomory: 1\n",
      "  MIR: 49\n",
      "\n",
      "Explored 1 nodes (70 simplex iterations) in 0.13 seconds (0.00 work units)\n",
      "Thread count was 4 (of 4 available processors)\n",
      "\n",
      "Solution count 5: 6.57492 7.57014 1147.35 ... 1149.35\n",
      "\n",
      "Optimal solution found (tolerance 1.00e-04)\n",
      "Best objective 6.574920000000e+00, best bound 6.574920000000e+00, gap 0.0000%\n",
      "Allocation for Province 0 = 22.0\n",
      "Allocation for Province 1 = 38.0\n",
      "Allocation for Province 2 = 23.0\n",
      "Allocation for Province 3 = 33.0\n",
      "Allocation for Province 4 = 14.0\n",
      "Allocation for Province 5 = 36.0\n",
      "Allocation for Province 6 = 33.0\n",
      "Allocation for Province 7 = 41.0\n",
      "Allocation for Province 8 = 14.0\n",
      "Allocation for Province 9 = 25.0\n",
      "Allocation for Province 10 = 48.0\n",
      "Allocation for Province 11 = 24.0\n",
      "Allocation for Province 12 = 29.0\n",
      "Allocation for Province 13 = 26.0\n",
      "Allocation for Province 14 = 20.0\n",
      "Allocation for Province 15 = 44.0\n",
      "Allocation for Province 16 = 29.0\n",
      "Allocation for Province 17 = 39.0\n",
      "Allocation for Province 18 = 26.0\n",
      "Allocation for Province 19 = 37.0\n",
      "Absolute Error for Province 0 = 0.19780999999998805\n",
      "Absolute Error for Province 1 = 0.15469000000000194\n",
      "Absolute Error for Province 2 = 0.7864499999998957\n",
      "Absolute Error for Province 3 = 0.09103000000000343\n",
      "Absolute Error for Province 4 = 0.8364100000000008\n",
      "Absolute Error for Province 5 = 0.1998600000000015\n",
      "Absolute Error for Province 6 = 0.3203299999999995\n",
      "Absolute Error for Province 7 = 0.5475700000000003\n",
      "Absolute Error for Province 8 = 0.8090299999999999\n",
      "Absolute Error for Province 9 = 0.5044499999999992\n",
      "Absolute Error for Province 10 = 0.12935999999999837\n",
      "Absolute Error for Province 11 = 0.1409999999999987\n",
      "Absolute Error for Province 12 = 0.20465000000000227\n",
      "Absolute Error for Province 13 = 0.08418999999999933\n",
      "Absolute Error for Province 14 = 0.2546199999999993\n",
      "Absolute Error for Province 15 = 0.015740000000000975\n",
      "Absolute Error for Province 16 = 0.20465000000000105\n",
      "Absolute Error for Province 17 = 0.33196000000000137\n",
      "Absolute Error for Province 18 = 0.3271700000000005\n",
      "Absolute Error for Province 19 = 0.4339500000000028\n",
      "Dummy Variable = 1.0\n"
     ]
    }
   ],
   "source": [
    "# Your solution for 1.3\n",
    "\n",
    "P = len(Province)\n",
    "\n",
    "model = gp.Model(\"Minimizing Sum Absolute Gaps\")\n",
    "\n",
    "# Defining Variables:\n",
    "A = model.addVars(P, vtype=gp.GRB.INTEGER, name=[\"Allocation for Province \"+str(i) for i in range(P)])\n",
    "Z = model.addVars(P, vtype = GRB.CONTINUOUS, name = [\"Absolute Error for Province \"+str(i) for i in range(P)])\n",
    "D = model.addVar(vtype = GRB.BINARY, name='Dummy Variable')\n",
    "\n",
    "# Constrains:\n",
    "## All seats should be filled\n",
    "model.addConstr(gp.quicksum(A[i] for i in range(P)) == s, name='All seats are filled')\n",
    "\n",
    "## Absolute value constraint:\n",
    "model.addConstrs((Z[i] >= Quota[i] - A[i] for i in range(P)), name = \"Absolute value for positive Gap\")\n",
    "model.addConstrs((Z[i] >= -(Quota[i] - A[i]) for i in range(P)), name = \"Absolute value for negative Gap\")\n",
    "\n",
    "##The number of seats allocated to the two least populated provinces (P4 and P8) must be equal:\n",
    "model.addConstr(A[4] == A[8])\n",
    "\n",
    "##The number of seats allocated to each of the provinces with more than 10,000,000 \n",
    "model.addConstrs(A[i] <= Quota[i] for i in [7,10,15])\n",
    "    \n",
    "##If the number of seats allocated to P0 is more than its quota, \n",
    "#then the number of seats allocated to P2 must be more than its quota as well:\n",
    "model.addConstr(A[0] >= Quota[0] - 100*(1-D))\n",
    "model.addConstr(A[0] <= Quota[0] + 100*D)\n",
    "model.addConstr(A[2] >= Quota[2]*D)\n",
    "\n",
    "\n",
    "# Objective function:\n",
    "model.setObjective(gp.quicksum(Z[i] for i in range(P)), GRB.MINIMIZE)\n",
    "\n",
    "\n",
    "model.optimize()\n",
    "\n",
    "for v in model.getVars():\n",
    "    print(v.varname, \"=\", v.x)"
   ]
  },
  {
   "cell_type": "code",
   "execution_count": 8,
   "metadata": {},
   "outputs": [
    {
     "data": {
      "text/plain": [
       "6.574919999999896"
      ]
     },
     "execution_count": 8,
     "metadata": {},
     "output_type": "execute_result"
    }
   ],
   "source": [
    "model.ObjVal"
   ]
  },
  {
   "cell_type": "code",
   "execution_count": 9,
   "metadata": {},
   "outputs": [
    {
     "data": {
      "text/plain": [
       "1.9589199999998828"
      ]
     },
     "execution_count": 9,
     "metadata": {},
     "output_type": "execute_result"
    }
   ],
   "source": [
    "6.574919999999896 - 4.616000000000013"
   ]
  },
  {
   "cell_type": "markdown",
   "metadata": {},
   "source": [
    "### Question a) :\n",
    "The mathematical formulas related to each consideration can be found in the code above.\n",
    "\n",
    "* Number of Decision Variables: 41 (20 for allocation, 20 for absolute error, and 1 that is the dummy variable allowing us to form the last constraint)\n",
    "\n",
    "* Number of constraints: 48 (The first 41 ones are the same as in Problem 1.1, and the 6 last ones are for our newly added constraints)\n",
    "\n",
    "### Question b):\n",
    "The minimum sum of absolute gaps is equal to 6.574919999999896. In problem 1.1, the minimum sum of absolute gaps was equal to 4.616000000000013, with a difference of 1.9589199999998828."
   ]
  },
  {
   "cell_type": "markdown",
   "metadata": {},
   "source": [
    "### 1.4: Opinions."
   ]
  },
  {
   "cell_type": "markdown",
   "metadata": {},
   "source": [
    "After a Google Search, I found out that the States in the US are all represented by two senators in the Senate because of an Article writen in the Constitution ([U.S. Constitution, Article I, section 3, clause 1]).\n",
    "\n",
    "This choice is completely independent of the population per state. They therefore did not seem to have used any Optimization Program to make this decision. They did not choose only one senate because in case of death or illness, it would leave a state without any representative, and three senators would have made the Senate too crowded.\n",
    "\n",
    "In my opinion, I think that this is a very wise choice to make, as I think that one voice is enough to represent a group of people. I don't see why a larger state in terms of population might need more representatives. They just need a good one, just as much as any other state. This was an interesting optimization problem to solve, but I personally don't think it would have been used in real life."
   ]
  },
  {
   "cell_type": "markdown",
   "metadata": {},
   "source": [
    "## 2: Did You Miss BalancedMilk Co. and Ms. Fraser?"
   ]
  },
  {
   "cell_type": "markdown",
   "metadata": {},
   "source": [
    "### 2.1: The salesforce problem."
   ]
  },
  {
   "cell_type": "code",
   "execution_count": 32,
   "metadata": {
    "scrolled": true
   },
   "outputs": [
    {
     "name": "stdout",
     "output_type": "stream",
     "text": [
      "Gurobi Optimizer version 9.5.2 build v9.5.2rc0 (mac64[x86])\n",
      "Thread count: 2 physical cores, 4 logical processors, using up to 4 threads\n",
      "Optimize a model with 13 rows, 30 columns and 136 nonzeros\n",
      "Model fingerprint: 0xf9d9afd8\n",
      "Variable types: 10 continuous, 20 integer (20 binary)\n",
      "Coefficient statistics:\n",
      "  Matrix range     [1e-01, 1e+03]\n",
      "  Objective range  [9e-01, 2e+00]\n",
      "  Bounds range     [1e+00, 1e+00]\n",
      "  RHS range        [3e+00, 1e+04]\n",
      "Presolve time: 0.00s\n",
      "Presolved: 13 rows, 30 columns, 130 nonzeros\n",
      "Variable types: 10 continuous, 20 integer (20 binary)\n",
      "\n",
      "Root relaxation: objective 1.983931e+04, 21 iterations, 0.00 seconds (0.00 work units)\n",
      "\n",
      "    Nodes    |    Current Node    |     Objective Bounds      |     Work\n",
      " Expl Unexpl |  Obj  Depth IntInf | Incumbent    BestBd   Gap | It/Node Time\n",
      "\n",
      "     0     0 19839.3085    0    4          - 19839.3085      -     -    0s\n",
      "H    0     0                    19209.432186 19839.3085  3.28%     -    0s\n",
      "     0     0 19673.3457    0    4 19209.4322 19673.3457  2.42%     -    0s\n",
      "H    0     0                    19501.036225 19673.3457  0.88%     -    0s\n",
      "     0     0 19635.5255    0    2 19501.0362 19635.5255  0.69%     -    0s\n",
      "     0     0 19635.5255    0    3 19501.0362 19635.5255  0.69%     -    0s\n",
      "     0     0 19567.3718    0    2 19501.0362 19567.3718  0.34%     -    0s\n",
      "     0     0 19565.4134    0    2 19501.0362 19565.4134  0.33%     -    0s\n",
      "\n",
      "Cutting planes:\n",
      "  Gomory: 2\n",
      "  MIR: 1\n",
      "\n",
      "Explored 1 nodes (47 simplex iterations) in 0.19 seconds (0.00 work units)\n",
      "Thread count was 4 (of 4 available processors)\n",
      "\n",
      "Solution count 2: 19501 19209.4 \n",
      "\n",
      "Optimal solution found (tolerance 1.00e-04)\n",
      "Best objective 1.950103622550e+04, best bound 1.950103622550e+04, gap 0.0000%\n",
      "Award allocation for salesperson1 = 746.6689593895925\n",
      "Award allocation for salesperson2 = 1491.028616245396\n",
      "Award allocation for salesperson3 = 27.447146183662795\n",
      "Award allocation for salesperson4 = 1095.056260925763\n",
      "Award allocation for salesperson5 = 415.84025216162445\n",
      "Award allocation for salesperson6 = 152.1542200391871\n",
      "Award allocation for salesperson7 = 5024.471501311928\n",
      "Award allocation for salesperson8 = 113.90743304878097\n",
      "Award allocation for salesperson9 = 933.4256106940663\n",
      "Award allocation for salesperson10 = 0.0\n",
      "Award deduction for salesperson1 = -0.0\n",
      "Award deduction for salesperson2 = -0.0\n",
      "Award deduction for salesperson3 = 1.0\n",
      "Award deduction for salesperson4 = -0.0\n",
      "Award deduction for salesperson5 = 1.0\n",
      "Award deduction for salesperson6 = -0.0\n",
      "Award deduction for salesperson7 = -0.0\n",
      "Award deduction for salesperson8 = -0.0\n",
      "Award deduction for salesperson9 = -0.0\n",
      "Award deduction for salesperson10 = 1.0\n",
      "Award increase for salesperson1 = -0.0\n",
      "Award increase for salesperson2 = -0.0\n",
      "Award increase for salesperson3 = -0.0\n",
      "Award increase for salesperson4 = 1.0\n",
      "Award increase for salesperson5 = -0.0\n",
      "Award increase for salesperson6 = -0.0\n",
      "Award increase for salesperson7 = 1.0\n",
      "Award increase for salesperson8 = -0.0\n",
      "Award increase for salesperson9 = 1.0\n",
      "Award increase for salesperson10 = -0.0\n",
      "The payoff of salesperson 1 from this allocation is 1500\n",
      "The payoff of salesperson 2 from this allocation is 1499\n",
      "The payoff of salesperson 3 from this allocation is 999\n",
      "The payoff of salesperson 4 from this allocation is 2500\n",
      "The payoff of salesperson 5 from this allocation is 999\n",
      "The payoff of salesperson 6 from this allocation is 1500\n",
      "The payoff of salesperson 7 from this allocation is 5469\n",
      "The payoff of salesperson 8 from this allocation is 1500\n",
      "The payoff of salesperson 9 from this allocation is 2500\n",
      "The payoff of salesperson 10 from this allocation is 1031\n",
      "The maximed average payoff is equal to 1950.103622549594\n"
     ]
    }
   ],
   "source": [
    "B = np.array([[1, 0.3, -0.1, 0, 0, -0.2, 0, -0.3, 0.4, 0.1],\n",
    "              [0.2, 1, 0.1, 0.1, -0.1, 0, -0.1, 0.1, 0.3, -0.2],\n",
    "              [0.2, 0, 1, 0.1, -0.1, 0.2, 0.2, 0, -0.3, 0],\n",
    "              [-0.1, 0.2, 0, 1, 0.2, 0, 0.2, 0, 0.1, -0.1],\n",
    "              [0.1, -0.1, -0.1, 0.1, 1, 0.1, 0.1, 0.3, 0, 0.1], \n",
    "              [-0.2, -0.2, -0.1, 0.2, 0.2, 1, 0.3, -0.1, 0, -0.2],\n",
    "              [0.1, 0.2, -0.1, -0.1, 0.2, -0.1, 1, 0.2, 0.1, 0.3],\n",
    "              [0.1, 0.1, 0.3, -0.1, 0.1, 0.2, 0.2, 1, 0.2, 0.1],\n",
    "              [0.3, 0.4, -0.2, 0.2, 0.1, 0, 0.1, -0.1, 1, -0.1],\n",
    "              [-0.1, -0.2, 0.1, 0.1, 0, -0.1, 0.2, 0.2, 0.3, 1]])\n",
    " \n",
    "# Your solution for 2.1\n",
    "\n",
    "S = len(B) #10 salesperson\n",
    "Total_Award = 10000\n",
    "\n",
    "model = gp.Model(\"Payoff Allocation\")\n",
    "\n",
    "# Defining variables:\n",
    "A = model.addVars(S, vtype = GRB.CONTINUOUS, name=['Award allocation for salesperson'+str(i+1) for i in range(S)])\n",
    "D = model.addVars(S, vtype = GRB.BINARY, name=['Award deduction for salesperson'+str(i+1) for i in range(S)])\n",
    "I = model.addVars(S, vtype = GRB.BINARY, name=['Award increase for salesperson'+str(i+1) for i in range(S)])\n",
    "\n",
    "#Constraints:\n",
    "## Totality constraint:\n",
    "model.addConstr(gp.quicksum(A[i] for i in range(S)) == 10000)\n",
    "## Each salesperson should receive at least 1500 units of payoff (includes the two lasts constraints too):\n",
    "model.addConstrs(gp.quicksum(B[i][j]*A[j] for j in range(S)) >= 1500 - 500 * D[i] + 1000 * I[i] for i in range(S))\n",
    "## This limit can be dropped to 1000 units of payoff for at most three salespersons:\n",
    "model.addConstr(gp.quicksum(D[i] for i in range(S)) <= 3) \n",
    "## At least three salespeople should receive 2500 or more units of payoff:\n",
    "model.addConstr(gp.quicksum(I[i] for i in range(S)) >= 3)\n",
    "\n",
    "#Objective function:\n",
    "model.setObjective(gp.quicksum(gp.quicksum(B[i][j] * A[j] for j in range(S)) for i in range(S)), GRB.MAXIMIZE)\n",
    "\n",
    "model.optimize()\n",
    "\n",
    "for v in model.getVars():\n",
    "    print(v.varname, \"=\", v.x)\n",
    "    \n",
    "payoff_B = np.empty(10)\n",
    "for i in range(10): payoff_B[i] = sum(B[i][j] * A[j].X for j in range(10))\n",
    "for i in range(10): print(\"The payoff of salesperson\", (i+1), \"from this allocation is %d\" % payoff_B[i])\n",
    "average_payoff = sum(payoff_B[i] for i in range(10)) / 10\n",
    "print(\"The maximed average payoff is equal to\", average_payoff)"
   ]
  },
  {
   "cell_type": "markdown",
   "metadata": {},
   "source": [
    "### 2.2: BalancedMilk in the middle of the crisis."
   ]
  },
  {
   "cell_type": "code",
   "execution_count": 38,
   "metadata": {
    "scrolled": true
   },
   "outputs": [
    {
     "name": "stdout",
     "output_type": "stream",
     "text": [
      "Gurobi Optimizer version 9.5.2 build v9.5.2rc0 (mac64[x86])\n",
      "Thread count: 2 physical cores, 4 logical processors, using up to 4 threads\n",
      "Optimize a model with 30 rows, 85 columns and 267 nonzeros\n",
      "Model fingerprint: 0x7fd3d4d0\n",
      "Variable types: 80 continuous, 5 integer (5 binary)\n",
      "Coefficient statistics:\n",
      "  Matrix range     [1e+00, 1e+03]\n",
      "  Objective range  [5e+00, 5e+01]\n",
      "  Bounds range     [1e+00, 1e+00]\n",
      "  RHS range        [2e+00, 1e+03]\n",
      "Presolve removed 3 rows and 15 columns\n",
      "Presolve time: 0.01s\n",
      "Presolved: 27 rows, 70 columns, 207 nonzeros\n",
      "Variable types: 65 continuous, 5 integer (5 binary)\n",
      "Found heuristic solution: objective 17010.000000\n",
      "\n",
      "Root relaxation: objective 1.561077e+04, 19 iterations, 0.00 seconds (0.00 work units)\n",
      "\n",
      "    Nodes    |    Current Node    |     Objective Bounds      |     Work\n",
      " Expl Unexpl |  Obj  Depth IntInf | Incumbent    BestBd   Gap | It/Node Time\n",
      "\n",
      "     0     0 15610.7692    0    1 17010.0000 15610.7692  8.23%     -    0s\n",
      "H    0     0                    15918.000000 15610.7692  1.93%     -    0s\n",
      "*    0     0               0    15860.000000 15860.0000  0.00%     -    0s\n",
      "\n",
      "Cutting planes:\n",
      "  MIR: 2\n",
      "\n",
      "Explored 1 nodes (21 simplex iterations) in 0.23 seconds (0.00 work units)\n",
      "Thread count was 4 (of 4 available processors)\n",
      "\n",
      "Solution count 3: 15860 15918 17010 \n",
      "\n",
      "Optimal solution found (tolerance 1.00e-04)\n",
      "Best objective 1.586000000000e+04, best bound 1.586000000000e+04, gap 0.0000%\n",
      "\n",
      "The Total cost minimized is equal to 15860.0\n",
      "\n",
      "\n",
      "From S_1 to D_9 = 110.0\n",
      "From S_2 to D_3 = 20.0\n",
      "From S_2 to D_6 = 15.0\n",
      "From S_2 to D_8 = 45.0\n",
      "From S_3 to D_6 = 100.0\n",
      "From S_4 to D_2 = 100.0\n",
      "From S_5 to D_1 = 90.0\n",
      "From S_5 to D_9 = 10.0\n",
      "From S_6 to D_5 = 180.0\n",
      "From S_6 to D_10 = 70.0\n",
      "From S_7 to D_3 = 130.0\n",
      "Violation of Demand[3] = 190.0\n",
      "Violation of Demand[5] = 125.0\n",
      "Violation of Demand[6] = 210.0\n",
      "Violation of Demand[7] = 45.0\n",
      "Violation of Demand[8] = 40.0\n",
      "50% Indicator[2] = 1.0\n",
      "50% Indicator[4] = 1.0\n",
      "Demand Indicator = 1.0\n",
      "Competition Indicator = 1.0\n"
     ]
    }
   ],
   "source": [
    "Cost = np.array([[20, 49, 16, 30,  8, 35, 21, 40, 10, 12],\n",
    "                [15, 53, 7, 20, 47, 11, 16, 17, 15, 44],\n",
    "                [22, 25, 42, 22, 31, 9, 11, 29, 20, 5],\n",
    "                [45,  6, 33, 35, 49, 25, 30, 47, 32, 31],\n",
    "                [9, 12, 41, 15, 38, 14, 53, 22, 12, 13],\n",
    "                [21, 24, 32, 49, 5, 47, 30, 23, 37, 8],\n",
    "                [12, 19,  5, 28, 47, 39, 15, 35, 9, 51],\n",
    "                [34, 17, 10, 21, 9, 33, 14, 26, 19, 45]])\n",
    "SupplyCenter = ['S_1', 'S_2', 'S_3', 'S_4', 'S_5', 'S_6', 'S_7']\n",
    "Supply = [110, 80, 100, 240, 100, 280, 130]\n",
    "DemandMarket = ['D_1', 'D_2', 'D_3', 'D_4', 'D_5', 'D_6', 'D_7', 'D_8', 'D_9', 'D_10']\n",
    "Demand = [90, 100, 150, 190, 180, 240, 210, 90, 160, 70]\n",
    "\n",
    "# Your solution for 2.2\n",
    "S = len(SupplyCenter)\n",
    "D = len(DemandMarket)\n",
    "\n",
    "model = gp.Model('BalancedMilk in the middle of the crisis')\n",
    "\n",
    "# Variables:\n",
    "X = model.addVars(S,D, vtype = GRB.CONTINUOUS, name = [\"From \"+i+\" to \"+j for i in SupplyCenter for j in DemandMarket])\n",
    "V = model.addVars(D, name = 'Violation of Demand')\n",
    "I_50 = model.addVars([2,3,4], name='50% Indicator', vtype = GRB.BINARY)\n",
    "I_D = model.addVar(name='Demand Indicator', vtype = GRB.BINARY)\n",
    "I_C = model.addVar(name='Competition Indicator', vtype = GRB.BINARY)\n",
    "\n",
    "#Constraints:\n",
    "## Demand and Supply logic constraints\n",
    "model.addConstrs(gp.quicksum(X[i,j] for j in range(D)) <= Supply[i] for i in range(S))\n",
    "model.addConstrs(gp.quicksum(X[i,j] for i in range(S)) >= Demand[j] - V[j] for j in range(D))\n",
    "\n",
    "## 50% Capacity Constraints\n",
    "model.addConstrs(gp.quicksum(X[i,j] for j in range(D)) >= 0.5*Supply[i] - 1000*(1-I_50[i]) for i in [2,3,4])\n",
    "model.addConstrs(gp.quicksum(X[i,j] for j in range(D)) <= 0.5*Supply[i] + 1000*(I_50[i]) for i in [2,3,4])\n",
    "model.addConstr(gp.quicksum(I_50[i] for i in [2,3,4]) >= 2)\n",
    "\n",
    "## either D5 receives ≥ 80% of its demand, or D6 receives ≥ 60% of its demand, or both\n",
    "model.addConstr(gp.quicksum(X[i,4] for i in range(S)) >= 0.8 * Demand[4] - 1000*(1-I_D))\n",
    "model.addConstr(gp.quicksum(X[i,5] for i in range(S)) >= 0.6 * Demand[5] - 1000*(I_D))\n",
    "\n",
    "## Competition constraints:\n",
    "model.addConstr(gp.quicksum(X[i,1] for i in range(S)) >= 0.5 * Demand[1] - 1000*(1-I_C))\n",
    "model.addConstr(gp.quicksum(X[i,1] for i in range(S)) <= 0.5 * Demand[1] + 1000*(I_C))\n",
    "model.addConstr(gp.quicksum(X[i,7] for i in range(S)) >= 0.5 * Demand[7] - 1000*(1-I_C))\n",
    "model.addConstr(gp.quicksum(X[i,8] for i in range(S)) >= 0.5 * Demand[8] - 1000*(1-I_C))\n",
    "\n",
    "cost = gp.quicksum(Cost[i][j] * X[(i,j)] for i in range(S) for j in range(D))\n",
    "violation = gp.quicksum(15 * V[j] for j in range(D))\n",
    "\n",
    "model.setObjective((cost + violation), GRB.MINIMIZE)\n",
    "model.optimize()\n",
    "\n",
    "print()\n",
    "print(\"The Total cost minimized is equal to\", model.ObjVal) \n",
    "print()\n",
    "\n",
    "print()\n",
    "for v in model.getVars():\n",
    "    if v.x>0:\n",
    "        print(v.varname, \"=\", v.x)"
   ]
  },
  {
   "cell_type": "markdown",
   "metadata": {},
   "source": [
    "### 2.3 - BalancedMilk before the next crisis."
   ]
  },
  {
   "cell_type": "code",
   "execution_count": 45,
   "metadata": {
    "scrolled": true
   },
   "outputs": [
    {
     "name": "stdout",
     "output_type": "stream",
     "text": [
      "Gurobi Optimizer version 9.5.2 build v9.5.2rc0 (mac64[x86])\n",
      "Thread count: 2 physical cores, 4 logical processors, using up to 4 threads\n",
      "Optimize a model with 19 rows, 98 columns and 186 nonzeros\n",
      "Model fingerprint: 0xbf17468d\n",
      "Variable types: 90 continuous, 8 integer (8 binary)\n",
      "Coefficient statistics:\n",
      "  Matrix range     [1e+00, 4e+02]\n",
      "  Objective range  [5e+00, 5e+01]\n",
      "  Bounds range     [1e+00, 1e+00]\n",
      "  RHS range        [1e+00, 4e+02]\n",
      "Presolve removed 0 rows and 18 columns\n",
      "Presolve time: 0.00s\n",
      "Presolved: 19 rows, 80 columns, 150 nonzeros\n",
      "Variable types: 72 continuous, 8 integer (8 binary)\n",
      "Found heuristic solution: objective 19990.000000\n",
      "\n",
      "Root relaxation: objective 1.922583e+04, 29 iterations, 0.00 seconds (0.00 work units)\n",
      "\n",
      "    Nodes    |    Current Node    |     Objective Bounds      |     Work\n",
      " Expl Unexpl |  Obj  Depth IntInf | Incumbent    BestBd   Gap | It/Node Time\n",
      "\n",
      "     0     0 19225.8333    0    2 19990.0000 19225.8333  3.82%     -    0s\n",
      "*    0     0               0    19460.000000 19460.0000  0.00%     -    0s\n",
      "\n",
      "Cutting planes:\n",
      "  MIR: 1\n",
      "  RLT: 1\n",
      "\n",
      "Explored 1 nodes (32 simplex iterations) in 0.13 seconds (0.00 work units)\n",
      "Thread count was 4 (of 4 available processors)\n",
      "\n",
      "Solution count 2: 19460 19990 \n",
      "\n",
      "Optimal solution found (tolerance 1.00e-04)\n",
      "Best objective 1.946000000000e+04, best bound 1.946000000000e+04, gap 0.0000%\n",
      "\n",
      "IN BEST CASE SCENARIO:\n",
      "\n",
      "Total Cost: 19460.0\n",
      "\n",
      "Supply From S_1 to Demand D_9 = 110.0\n",
      "Supply From S_3 to Demand D_6 = 100.0\n",
      "Supply From S_4 to Demand D_2 = 100.0\n",
      "Supply From S_4 to Demand D_6 = 140.0\n",
      "Supply From S_5 to Demand D_1 = 90.0\n",
      "Supply From S_5 to Demand D_4 = 10.0\n",
      "Supply From S_6 to Demand D_5 = 180.0\n",
      "Supply From S_6 to Demand D_8 = 30.0\n",
      "Supply From S_6 to Demand D_10 = 70.0\n",
      "Supply From S_7 to Demand D_3 = 80.0\n",
      "Supply From S_7 to Demand D_9 = 50.0\n",
      "Supply From S_8 to Demand D_3 = 70.0\n",
      "Supply From S_8 to Demand D_4 = 160.0\n",
      "Supply From S_8 to Demand D_7 = 210.0\n",
      "Demand Violation[3] = 20.0\n",
      "Demand Violation[7] = 60.0\n",
      "Shut down supply center 2 = 1.0\n"
     ]
    }
   ],
   "source": [
    "Cost = np.array([[20, 49, 16, 30,  8, 35, 21, 40, 10, 12],\n",
    "                [15, 53, 7, 20, 47, 11, 16, 17, 15, 44],\n",
    "                [22, 25, 42, 22, 31, 9, 11, 29, 20, 5],\n",
    "                [45,  6, 33, 35, 49, 25, 30, 47, 32, 31],\n",
    "                [9, 12, 41, 15, 38, 14, 53, 22, 12, 13],\n",
    "                [21, 24, 32, 49, 5, 47, 30, 23, 37, 8],\n",
    "                [12, 19,  5, 28, 47, 39, 15, 35, 9, 51],\n",
    "                [34, 17, 10, 21, 9, 33, 14, 26, 19, 45]])\n",
    "\n",
    "SupplyCenter = ['S_1', 'S_2', 'S_3', 'S_4', 'S_5', 'S_6', 'S_7', 'S_8']\n",
    "Supply = [110, 80, 100, 240, 100, 280, 130, 440]\n",
    "DemandMarket = ['D_1', 'D_2', 'D_3', 'D_4', 'D_5', 'D_6', 'D_7', 'D_8', 'D_9', 'D_10']\n",
    "Demand = [90, 100, 150, 190, 180, 240, 210, 90, 160, 70]\n",
    "\n",
    "# Your solution for 2.3\n",
    "\n",
    "S = len(SupplyCenter)\n",
    "D = len(DemandMarket)\n",
    "\n",
    "model = gp.Model('Contingency Plan Best')\n",
    "\n",
    "# Variables:\n",
    "X = model.addVars(S,D, vtype = GRB.CONTINUOUS, name = [\"Supply From \"+i+\" to Demand \"+j for i in SupplyCenter for j in DemandMarket])\n",
    "V = model.addVars(D, vtype = GRB.CONTINUOUS, name = 'Demand Violation')\n",
    "ShutDown = model.addVars(S, vtype = GRB.BINARY, name=[\"Shut down supply center \"+str(i+1) for i in range(S)])\n",
    "\n",
    "# Supply and Demand Constraints:\n",
    "model.addConstrs(gp.quicksum(X[i,j] for j in range(D)) == Supply[i] * (1 - ShutDown[i]) for i in range(S))\n",
    "model.addConstrs(gp.quicksum(X[i,j] for i in range(S)) >= Demand[j] - V[j] for j in range(D))\n",
    "\n",
    "#  BEST CASE SCENARIO:\n",
    "\n",
    "## Adding the one-supply-center-shutdown constraint:\n",
    "model.addConstr(gp.quicksum(ShutDown[i] for i in range(S)) >= 1)\n",
    "\n",
    "cost = gp.quicksum(Cost[i][j] * X[(i,j)] for i in range(S) for j in range(D))\n",
    "violation = gp.quicksum(30 * V[j] for j in range(D))\n",
    "\n",
    "# Objective Function:\n",
    "model.setObjective((cost + violation), GRB.MINIMIZE)\n",
    "model.optimize()\n",
    "\n",
    "print()\n",
    "print(\"IN BEST CASE SCENARIO:\")\n",
    "print()\n",
    "print(\"Total Cost:\", model.ObjVal)\n",
    "print()\n",
    "for v in model.getVars():\n",
    "    if v.x>0:\n",
    "        print(v.varname, \"=\", v.x)\n",
    "        \n",
    "        \n"
   ]
  },
  {
   "cell_type": "code",
   "execution_count": null,
   "metadata": {},
   "outputs": [],
   "source": []
  }
 ],
 "metadata": {
  "colab": {
   "collapsed_sections": [],
   "name": "Quiz 2-Solution.ipynb",
   "provenance": []
  },
  "kernelspec": {
   "display_name": "Python 3 (ipykernel)",
   "language": "python",
   "name": "python3"
  },
  "language_info": {
   "codemirror_mode": {
    "name": "ipython",
    "version": 3
   },
   "file_extension": ".py",
   "mimetype": "text/x-python",
   "name": "python",
   "nbconvert_exporter": "python",
   "pygments_lexer": "ipython3",
   "version": "3.9.12"
  }
 },
 "nbformat": 4,
 "nbformat_minor": 4
}
