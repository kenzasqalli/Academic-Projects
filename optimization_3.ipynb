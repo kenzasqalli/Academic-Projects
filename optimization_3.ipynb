{
 "cells": [
  {
   "cell_type": "markdown",
   "id": "24ce34b5",
   "metadata": {},
   "source": [
    "# Assignment 3: NLP"
   ]
  },
  {
   "cell_type": "markdown",
   "id": "c8450f61",
   "metadata": {},
   "source": [
    "## Problem 1. The Markowitz Problem"
   ]
  },
  {
   "cell_type": "code",
   "execution_count": 8,
   "id": "9333d997",
   "metadata": {},
   "outputs": [],
   "source": [
    "import gurobipy as gb\n",
    "import numpy as np\n",
    "from gurobipy import *"
   ]
  },
  {
   "cell_type": "code",
   "execution_count": 2,
   "id": "262cf1d6",
   "metadata": {},
   "outputs": [],
   "source": [
    "assets = [\"FTSE 100\", \"DAX\", \"DJIA\", \"DJ Asian Titans 50\", \"Russell 2000\"]\n",
    "return_anu = [0.00069, 0.00640,  0.00693, -0.00108, 0.00688]\n",
    "return_std = [3.23, 5.25, 3.26, 4.49, 4.60]\n",
    "\n",
    "corr_matrix = [[1 , 0.75526686, 0.77283301, 0.68746749, 0.64982921],\n",
    "               [0.75526686, 1 , 0.70381606, 0.66804974, 0.69425926],\n",
    "               [0.77283301, 0.70381606, 1 , 0.72145449, 0.8484989 ],\n",
    "               [0.68746749, 0.66804974, 0.72145449, 1 , 0.67030134],\n",
    "               [0.64982921, 0.69425926, 0.8484989 , 0.67030134, 1 ]]\n",
    "\n",
    "# See Excel File for more details and formulas on how the above values were found"
   ]
  },
  {
   "cell_type": "markdown",
   "id": "8b0a9c42",
   "metadata": {},
   "source": [
    "#### (a) Formulate an NLP to devise the optimal portfolio that minimizes the portfolio risk subject to non-negative return. What are the optimal solution and value?\n",
    "#### Hint: Notice that for the stock FTSE 100, for example, the rate of return from May 3 to June 1\n",
    "#### 2016 is (5,996.80 – 6230.80)/6230.80 = -0.0424."
   ]
  },
  {
   "cell_type": "code",
   "execution_count": 3,
   "id": "eda136c7",
   "metadata": {
    "scrolled": true
   },
   "outputs": [
    {
     "name": "stdout",
     "output_type": "stream",
     "text": [
      "Set parameter Username\n",
      "Academic license - for non-commercial use only - expires 2023-09-10\n",
      "Gurobi Optimizer version 9.5.2 build v9.5.2rc0 (mac64[x86])\n",
      "Thread count: 2 physical cores, 4 logical processors, using up to 4 threads\n",
      "Optimize a model with 2 rows, 5 columns and 10 nonzeros\n",
      "Model fingerprint: 0x904faf10\n",
      "Model has 15 quadratic objective terms\n",
      "Coefficient statistics:\n",
      "  Matrix range     [7e-04, 1e+00]\n",
      "  Objective range  [0e+00, 0e+00]\n",
      "  QObjective range [2e+01, 7e+01]\n",
      "  Bounds range     [0e+00, 0e+00]\n",
      "  RHS range        [1e+00, 1e+00]\n",
      "Presolve time: 0.06s\n",
      "Presolved: 2 rows, 5 columns, 10 nonzeros\n",
      "Presolved model has 15 quadratic objective terms\n",
      "Ordering time: 0.00s\n",
      "\n",
      "Barrier statistics:\n",
      " Free vars  : 4\n",
      " AA' NZ     : 1.500e+01\n",
      " Factor NZ  : 2.100e+01\n",
      " Factor Ops : 9.100e+01 (less than 1 second per iteration)\n",
      " Threads    : 1\n",
      "\n",
      "                  Objective                Residual\n",
      "Iter       Primal          Dual         Primal    Dual     Compl     Time\n",
      "   0   1.39436272e+05 -1.39436272e+05  4.12e+03 1.04e-04  9.87e+05     0s\n",
      "   1   6.03329323e+04 -6.13510098e+04  2.54e+02 6.42e-06  7.62e+04     0s\n",
      "   2   3.60323650e+03 -5.35379320e+03  2.17e+01 5.49e-07  7.76e+03     0s\n",
      "   3   1.87296362e+01 -1.99338244e+03  2.17e-05 5.47e-13  3.35e+02     0s\n",
      "   4   1.86006752e+01 -3.40831180e+00  1.85e-07 4.66e-15  3.67e+00     0s\n",
      "   5   1.04710153e+01 -1.77555960e+00  1.85e-13 2.22e-16  2.04e+00     0s\n",
      "   6   9.68592301e+00  8.61530575e+00  5.11e-15 6.22e-15  1.78e-01     0s\n",
      "   7   9.36662609e+00  9.28491148e+00  2.66e-15 1.11e-16  1.36e-02     0s\n",
      "   8   9.33237580e+00  9.33198587e+00  4.44e-16 4.44e-15  6.50e-05     0s\n",
      "   9   9.33203327e+00  9.33203288e+00  3.33e-15 8.22e-16  6.49e-08     0s\n",
      "  10   9.33203292e+00  9.33203292e+00  4.11e-15 2.79e-15  6.50e-11     0s\n",
      "\n",
      "Barrier solved model in 10 iterations and 0.13 seconds (0.00 work units)\n",
      "Optimal objective 9.33203292e+00\n",
      "\n",
      "The minimimal portfolio variance is 3.05\n",
      "\n",
      "The optimal allocation is:\n",
      "Asset_FTSE 100 = 0.52\n",
      "Asset_DAX = 0.0\n",
      "Asset_DJIA = 0.48\n",
      "Asset_DJ Asian Titans 50 = 0.0\n",
      "Asset_Russell 2000 = 0.0\n"
     ]
    }
   ],
   "source": [
    "model2 = gb.Model(\"Portfolio Optimization Minimize Risk part a\")\n",
    "\n",
    "L = len(assets)\n",
    "\n",
    "# Variables:\n",
    "A = model2.addVars(L, vtype = GRB.CONTINUOUS, name = [\"Asset_\"+assets[i] for i in range(L)])\n",
    "\n",
    "# Set Objective:\n",
    "risk = sum(A[i]*return_std[i] * A[j]*return_std[j] *corr_matrix[i][j] for i in range(L) for j in range(L))\n",
    "model2.setObjective(risk, GRB.MINIMIZE)\n",
    "\n",
    "# Constraints:\n",
    "model2.addConstr(sum(A[i] for i in range(L))==1, name = \"Fraction Cosntraint\")\n",
    "model2.addConstr(sum(A[i]*return_anu[i] for i in range(L))>=0)\n",
    "\n",
    "model2.optimize()\n",
    "\n",
    "print(\"The minimimal portfolio variance is {}\".format(round(model2.objVal**(1/2),2)))\n",
    "\n",
    "print(\"\\nThe optimal allocation is:\")\n",
    "for v in model2.getVars():\n",
    "    print(v.varName, \"=\",round(v.x,3))"
   ]
  },
  {
   "cell_type": "markdown",
   "id": "339a1a28",
   "metadata": {},
   "source": [
    "#### (b) Assume the initial allocation is 20% in each index. Changing the position requires incurring transaction costs. Formulate an NLP to find the optimal portfolio to minimize risk subject to non-negative return. What are the optimal solution and value?"
   ]
  },
  {
   "cell_type": "code",
   "execution_count": 4,
   "id": "cffee209",
   "metadata": {
    "scrolled": true
   },
   "outputs": [
    {
     "name": "stdout",
     "output_type": "stream",
     "text": [
      "Gurobi Optimizer version 9.5.2 build v9.5.2rc0 (mac64[x86])\n",
      "Thread count: 2 physical cores, 4 logical processors, using up to 4 threads\n",
      "Optimize a model with 1 rows, 5 columns and 5 nonzeros\n",
      "Model fingerprint: 0x0c95b170\n",
      "Model has 15 quadratic objective terms\n",
      "Model has 1 quadratic constraint\n",
      "Coefficient statistics:\n",
      "  Matrix range     [1e+00, 1e+00]\n",
      "  QMatrix range    [1e+00, 1e+00]\n",
      "  QLMatrix range   [4e-01, 4e-01]\n",
      "  Objective range  [0e+00, 0e+00]\n",
      "  QObjective range [2e+01, 7e+01]\n",
      "  Bounds range     [0e+00, 0e+00]\n",
      "  RHS range        [1e+00, 1e+00]\n",
      "  QRHS range       [2e-01, 2e-01]\n",
      "Presolve time: 0.17s\n",
      "Presolved: 14 rows, 14 columns, 40 nonzeros\n",
      "Presolved model has 2 second-order cone constraints\n",
      "Ordering time: 0.00s\n",
      "\n",
      "Barrier statistics:\n",
      " AA' NZ     : 8.300e+01\n",
      " Factor NZ  : 1.050e+02\n",
      " Factor Ops : 1.015e+03 (less than 1 second per iteration)\n",
      " Threads    : 1\n",
      "\n",
      "                  Objective                Residual\n",
      "Iter       Primal          Dual         Primal    Dual     Compl     Time\n",
      "   0   0.00000000e+00  0.00000000e+00  9.38e+00 1.00e-01  5.41e-01     0s\n",
      "   1   1.63161578e-01  2.61414387e-01  3.79e+00 1.10e-07  2.07e-01     0s\n",
      "   2   1.75302123e+00  2.53421158e+00  2.09e+00 1.21e-13  1.17e-01     0s\n",
      "   3   6.91032233e+00  5.39023987e+00  4.30e-01 7.24e-14  1.37e-01     0s\n",
      "   4   8.27183286e+00  8.49002030e+00  1.92e-01 2.55e-15  6.36e-02     0s\n",
      "   5   9.91102133e+00  9.65843269e+00  7.96e-02 6.22e-15  5.98e-02     0s\n",
      "   6   1.03124415e+01  1.12741677e+01  6.04e-02 4.88e-15  1.93e-02     0s\n",
      "   7   1.10585417e+01  1.18855310e+01  3.33e-02 3.73e-14  7.80e-03     0s\n",
      "   8   1.14866151e+01  1.21447303e+01  2.09e-02 4.26e-14  4.20e-03     0s\n",
      "   9   1.16979021e+01  1.23181309e+01  1.58e-02 1.19e-13  2.10e-03     0s\n",
      "  10   1.19459066e+01  1.24269218e+01  1.12e-02 8.10e-13  2.47e-03     0s\n",
      "  11   1.20839616e+01  1.24915883e+01  8.46e-03 4.99e-13  1.67e-03     0s\n",
      "  12   1.22373886e+01  1.25430600e+01  5.84e-03 4.60e-13  1.38e-03     0s\n",
      "  13   1.23296630e+01  1.25934183e+01  4.51e-03 2.50e-13  1.14e-03     0s\n",
      "  14   1.25183777e+01  1.26357982e+01  2.09e-03 6.11e-13  2.06e-03     0s\n",
      "  15   1.27173884e+01  1.26536780e+01  5.38e-05 3.13e-13  3.57e-03     0s\n",
      "  16   1.27036361e+01  1.27003069e+01  6.36e-11 1.05e-12  1.75e-04     0s\n",
      "  17   1.27006819e+01  1.27006477e+01  2.84e-11 9.01e-12  1.80e-06     0s\n",
      "  18   1.27006707e+01  1.27006703e+01  3.78e-09 6.10e-10  1.82e-08     0s\n",
      "\n",
      "Barrier solved model in 18 iterations and 0.26 seconds (0.00 work units)\n",
      "Optimal objective 1.27006707e+01\n",
      "\n",
      "The minimimal portfolio variance is 3.56\n",
      "\n",
      "The optimal allocation is:\n",
      "Asset_FTSE 100 = 0.234\n",
      "Asset_DAX = 0.162\n",
      "Asset_DJIA = 0.23\n",
      "Asset_DJ Asian Titans 50 = 0.19\n",
      "Asset_Russell 2000 = 0.185\n"
     ]
    }
   ],
   "source": [
    "model = gb.Model(\"Portfolio Optimization Minimize Risk part b\")\n",
    "\n",
    "L = len(assets)\n",
    "\n",
    "# Variables:\n",
    "A = model.addVars(L, vtype = GRB.CONTINUOUS, name = [\"Asset_\"+assets[i] for i in range(L)])\n",
    "\n",
    "# Set Objective:\n",
    "risk = sum(A[i]*return_std[i] * A[j]*return_std[j] *corr_matrix[i][j] for i in range(L) for j in range(L))\n",
    "model.setObjective(risk, GRB.MINIMIZE)\n",
    "\n",
    "# Constraints:\n",
    "model.addConstr(sum(A[i] for i in range(L))==1, name = \"Fraction Constraint\")\n",
    "## Constraint for cost of changing postfolio position:\n",
    "model.addConstr(sum(A[i]*return_anu[i] for i in range(L))-sum((A[i]-0.2)**2 for i in range(L))>=0)\n",
    "\n",
    "model.optimize()\n",
    "\n",
    "print(\"The minimimal portfolio variance is {}\".format(round(model.objVal**(1/2),2)))\n",
    "\n",
    "print(\"\\nThe optimal allocation is:\")\n",
    "for v in model.getVars():\n",
    "    print(v.varName, \"=\",round(v.x,3))"
   ]
  },
  {
   "cell_type": "markdown",
   "id": "7a4977ad",
   "metadata": {},
   "source": [
    "## Problem 2: The CYCOM Corporation Problem"
   ]
  },
  {
   "cell_type": "code",
   "execution_count": 5,
   "id": "f84ddc34",
   "metadata": {},
   "outputs": [],
   "source": [
    "projects = [\"project 1\", \"project 2\", \"project 3\", \"project 4\", \"project 5\", \"project 6\"]\n",
    "p = [1.1, 0.5, 2.5, 1.6, 2.2, 2.4]\n",
    "startup_cost = [325, 200, 490, 125, 710, 240]\n",
    "profit_if_successful = [1750, 700, 1300, 800, 1450, 1300]\n",
    "total_eng = 25\n",
    "cost_eng = 150000\n",
    "P = len(projects)"
   ]
  },
  {
   "cell_type": "markdown",
   "id": "3803d9e0",
   "metadata": {},
   "source": [
    "#### (a) Construct and solve a nonlinear optimization model to determine the number of engineers to assign to each project that will maximize the expected contribution to profit of the six projects minus the cost of assigning engineers to the projects and the start-up costs of the projects. What is the optimal solution? (Rounded to one decimal place)"
   ]
  },
  {
   "cell_type": "code",
   "execution_count": 6,
   "id": "b4a47849",
   "metadata": {
    "scrolled": true
   },
   "outputs": [
    {
     "name": "stdout",
     "output_type": "stream",
     "text": [
      "Set parameter NonConvex to value 2\n",
      "Gurobi Optimizer version 9.5.2 build v9.5.2rc0 (mac64[x86])\n",
      "Thread count: 2 physical cores, 4 logical processors, using up to 4 threads\n",
      "Optimize a model with 1 rows, 12 columns and 6 nonzeros\n",
      "Model fingerprint: 0xeee9c90e\n",
      "Model has 6 quadratic constraints\n",
      "Coefficient statistics:\n",
      "  Matrix range     [1e+00, 1e+00]\n",
      "  QMatrix range    [1e+00, 1e+00]\n",
      "  QLMatrix range   [5e-01, 2e+00]\n",
      "  Objective range  [2e+02, 2e+03]\n",
      "  Bounds range     [1e+00, 1e+00]\n",
      "  RHS range        [2e+01, 2e+01]\n",
      "\n",
      "Continuous model is non-convex -- solving as a MIP\n",
      "\n",
      "Found heuristic solution: objective -2090.000000\n",
      "Presolve time: 0.00s\n",
      "Presolved: 25 rows, 12 columns, 42 nonzeros\n",
      "Presolved model has 6 bilinear constraint(s)\n",
      "Variable types: 12 continuous, 0 integer (0 binary)\n",
      "\n",
      "Root relaxation: objective 4.791275e+03, 6 iterations, 0.00 seconds (0.00 work units)\n",
      "\n",
      "    Nodes    |    Current Node    |     Objective Bounds      |     Work\n",
      " Expl Unexpl |  Obj  Depth IntInf | Incumbent    BestBd   Gap | It/Node Time\n",
      "\n",
      "     0     0 4791.27544    0    6 -2090.0000 4791.27544   329%     -    0s\n",
      "H    0     0                     146.8571966 4791.27544  3163%     -    0s\n",
      "H    0     0                    1396.4833845 4791.27544   243%     -    0s\n",
      "     0     0 3658.85550    0    6 1396.48338 3658.85550   162%     -    0s\n",
      "     0     0 3641.85997    0    6 1396.48338 3641.85997   161%     -    0s\n",
      "     0     0 3641.85997    0    6 1396.48338 3641.85997   161%     -    0s\n",
      "     0     2 3641.85997    0    6 1396.48338 3641.85997   161%     -    0s\n",
      "*  259   228              70    1396.4840761 2436.12241  74.4%   1.1    0s\n",
      "*  260   228              70    1396.4843559 2436.12241  74.4%   1.1    0s\n",
      "\n",
      "Cutting planes:\n",
      "  RLT: 11\n",
      "\n",
      "Explored 8835 nodes (8037 simplex iterations) in 0.62 seconds (0.09 work units)\n",
      "Thread count was 4 (of 4 available processors)\n",
      "\n",
      "Solution count 5: 1396.48 1396.48 1396.48 ... -2090\n",
      "\n",
      "Optimal solution found (tolerance 1.00e-04)\n",
      "Best objective 1.396484355893e+03, best bound 1.396484355893e+03, gap 0.0000%\n",
      "The total profit from realizing the following projects is 1396484.4 $\n",
      "\n",
      "The optimal engineers to projects allocation and probabilities of success are:\n",
      "Number of engineers assigned to project 1 = 2.803\n",
      "Number of engineers assigned to project 2 = 1.231\n",
      "Number of engineers assigned to project 3 = 2.964\n",
      "Number of engineers assigned to project 4 = 1.541\n",
      "Number of engineers assigned to project 5 = 3.429\n",
      "Number of engineers assigned to project 6 = 2.562\n",
      "Probability of success for project 1 = 0.718\n",
      "Probability of success for project 2 = 0.711\n",
      "Probability of success for project 3 = 0.542\n",
      "Probability of success for project 4 = 0.491\n",
      "Probability of success for project 5 = 0.609\n",
      "Probability of success for project 6 = 0.516\n"
     ]
    }
   ],
   "source": [
    "# Model:\n",
    "model = gb.Model(\"CYCOM Corporation Problem part a\")\n",
    "\n",
    "# Decision Variables:\n",
    "## Number of Engineers per Project:\n",
    "X = model.addVars(P, vtype = GRB.CONTINUOUS, name = [\"Number of engineers assigned to \"+projects[i] for i in range(P)])\n",
    "## Probabilities of success per project:\n",
    "Prob = model.addVars(P, vtype = GRB.CONTINUOUS, lb = 0, ub = 1, name = [\"Probability of success for \"+projects[i] for i in range(P)])\n",
    "\n",
    "# Constraints:\n",
    "model.addConstrs(Prob[i]*(X[i]+p[i]) == X[i] for i in range(P))\n",
    "model.addConstr(sum(X[i] for i in range(P))<=25)\n",
    "\n",
    "# Objective function:\n",
    "objFunc = sum(Prob[i]*profit_if_successful[i] - (1-Prob[i])*startup_cost[i] - 150*X[i] for i in range(P))\n",
    "model.setObjective(objFunc, GRB.MAXIMIZE)\n",
    "\n",
    "model.params.NonConvex = 2\n",
    "model.optimize()\n",
    "\n",
    "print(\"The total profit from realizing the following projects is {}\".format(round(model.objVal*1000,1)),\"$\")\n",
    "\n",
    "print(\"\\nThe optimal engineers to projects allocation and probabilities of success are:\")\n",
    "for v in model.getVars():\n",
    "    print(v.varName, \"=\",round(v.x,3))"
   ]
  },
  {
   "cell_type": "markdown",
   "id": "1881386d",
   "metadata": {},
   "source": [
    "#### (b) Construct and solve an optimization model that minimizes the standard deviation of the contribution to profit subject to the constraint that the expected contribution to profit (minus the cost of engineers) is at least 1.1 million. What is the optimal solution? (Rounded to one decimal place)"
   ]
  },
  {
   "cell_type": "code",
   "execution_count": 9,
   "id": "93d3f06e",
   "metadata": {},
   "outputs": [
    {
     "name": "stdout",
     "output_type": "stream",
     "text": [
      "Set parameter NonConvex to value 2\n",
      "The minimum variance 3241282.2 \n",
      "\n",
      "The minimum standard deviation is  1800.4 \n",
      "\n",
      "The number of engineers assigned to each projet is \n",
      "Number of engineers assigned to project 1 = 5.1\n",
      "Number of engineers assigned to project 2 = 1.6\n",
      "Number of engineers assigned to project 3 = 4.2\n",
      "Number of engineers assigned to project 4 = 1.5\n",
      "Number of engineers assigned to project 5 = 6.0\n",
      "Number of engineers assigned to project 6 = 3.0\n",
      "Probability of success for project 1 = 0.8\n",
      "Probability of success for project 2 = 0.8\n",
      "Probability of success for project 3 = 0.6\n",
      "Probability of success for project 4 = 0.5\n",
      "Probability of success for project 5 = 0.7\n",
      "Probability of success for project 6 = 0.6\n"
     ]
    }
   ],
   "source": [
    "# Model:\n",
    "model = gb.Model(\"CYCOM Corporation Problem part b\")\n",
    "\n",
    "# Decision Variables:\n",
    "## Number of Engineers per Project:\n",
    "X = model.addVars(P, vtype = GRB.CONTINUOUS, name = [\"Number of engineers assigned to \"+projects[i] for i in range(P)])\n",
    "## Probabilities of success per project:\n",
    "Prob = model.addVars(P, vtype = GRB.CONTINUOUS, lb = 0, ub = 1, name = [\"Probability of success for \"+projects[i] for i in range(P)])\n",
    "\n",
    "# Constraints:\n",
    "model.addConstr(sum(X[i] for i in range (P))<=25)\n",
    "model.addConstrs(X[i]==(X[i]+p[i])*Prob[i] for i in range(P)) \n",
    "model.addConstr(sum(Prob[i]*profit_if_successful[i]-(1-Prob[i])*startup_cost[i]-150*X[i] for i in range(P))>=1100)\n",
    "\n",
    "# Objective function:\n",
    "model.setObjective(sum((profit_if_successful[i]+startup_cost[i])**2*Prob[i]*(1-Prob[i]) for i in range(P)),GRB.MINIMIZE)\n",
    "\n",
    "\n",
    "model.params.NonConvex=2\n",
    "model.Params.LogToConsole=0\n",
    "\n",
    "model.optimize()\n",
    "\n",
    "\n",
    "print ('The minimum variance',round(model.objval,1),'\\n')\n",
    "print ('The minimum standard deviation is ',round(np.sqrt(model.objval),1),'\\n')\n",
    "print('The number of engineers assigned to each projet is ')\n",
    "for v in model.getVars():\n",
    "    print(v.varname,'=',round(v.x,1))\n"
   ]
  },
  {
   "cell_type": "code",
   "execution_count": null,
   "id": "33b8dbfa",
   "metadata": {},
   "outputs": [],
   "source": []
  }
 ],
 "metadata": {
  "kernelspec": {
   "display_name": "Python 3 (ipykernel)",
   "language": "python",
   "name": "python3"
  },
  "language_info": {
   "codemirror_mode": {
    "name": "ipython",
    "version": 3
   },
   "file_extension": ".py",
   "mimetype": "text/x-python",
   "name": "python",
   "nbconvert_exporter": "python",
   "pygments_lexer": "ipython3",
   "version": "3.9.12"
  }
 },
 "nbformat": 4,
 "nbformat_minor": 5
}
